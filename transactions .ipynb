{
 "cells": [
  {
   "cell_type": "code",
   "execution_count": 1,
   "metadata": {},
   "outputs": [],
   "source": [
    "import pandas as pd\n",
    "import numpy as np\n",
    "import seaborn as sns\n",
    "import matplotlib.pyplot as plt\n",
    "import matplotlib.gridspec as gridspec\n",
    "from sklearn.metrics import accuracy_score\n",
    "from sklearn.preprocessing import LabelEncoder\n",
    "from sklearn.preprocessing import StandardScaler\n",
    "from sklearn.metrics import f1_score\n",
    "from sklearn.metrics import precision_score\n",
    "from sklearn.metrics import accuracy_score\n",
    "from sklearn.model_selection import train_test_split\n",
    "from imblearn.over_sampling import RandomOverSampler\n",
    "import os\n",
    "import warnings\n",
    "warnings.simplefilter('ignore')"
   ]
  },
  {
   "cell_type": "markdown",
   "metadata": {},
   "source": [
    "### Load and Clean the Data\n",
    "- Import raw dataset and transform it into the right format.\n",
    "- I noticed that the columns were jumbled  that’s why I decided to split each line item based on Column Header"
   ]
  },
  {
   "cell_type": "code",
   "execution_count": 2,
   "metadata": {},
   "outputs": [],
   "source": [
    "pwd = os.getcwd()"
   ]
  },
  {
   "cell_type": "code",
   "execution_count": 3,
   "metadata": {},
   "outputs": [],
   "source": [
    "header = [\"raw\"]\n",
    "df = pd.read_csv(os.path.basename(pwd +'/transactions.txt'),header=None, sep='\\t', names=header)"
   ]
  },
  {
   "cell_type": "code",
   "execution_count": 4,
   "metadata": {},
   "outputs": [],
   "source": [
    "df_subset = df.replace('\"','', regex=True)"
   ]
  },
  {
   "cell_type": "code",
   "execution_count": 5,
   "metadata": {},
   "outputs": [
    {
     "data": {
      "text/html": [
       "<div>\n",
       "<style scoped>\n",
       "    .dataframe tbody tr th:only-of-type {\n",
       "        vertical-align: middle;\n",
       "    }\n",
       "\n",
       "    .dataframe tbody tr th {\n",
       "        vertical-align: top;\n",
       "    }\n",
       "\n",
       "    .dataframe thead th {\n",
       "        text-align: right;\n",
       "    }\n",
       "</style>\n",
       "<table border=\"1\" class=\"dataframe\">\n",
       "  <thead>\n",
       "    <tr style=\"text-align: right;\">\n",
       "      <th></th>\n",
       "      <th>raw</th>\n",
       "    </tr>\n",
       "  </thead>\n",
       "  <tbody>\n",
       "    <tr>\n",
       "      <th>0</th>\n",
       "      <td>accountNumber: 737265056, customerId: 73726505...</td>\n",
       "    </tr>\n",
       "    <tr>\n",
       "      <th>1</th>\n",
       "      <td>accountNumber: 737265056, customerId: 73726505...</td>\n",
       "    </tr>\n",
       "    <tr>\n",
       "      <th>2</th>\n",
       "      <td>accountNumber: 737265056, customerId: 73726505...</td>\n",
       "    </tr>\n",
       "    <tr>\n",
       "      <th>3</th>\n",
       "      <td>accountNumber: 737265056, customerId: 73726505...</td>\n",
       "    </tr>\n",
       "    <tr>\n",
       "      <th>4</th>\n",
       "      <td>accountNumber: 830329091, customerId: 83032909...</td>\n",
       "    </tr>\n",
       "  </tbody>\n",
       "</table>\n",
       "</div>"
      ],
      "text/plain": [
       "                                                 raw\n",
       "0  accountNumber: 737265056, customerId: 73726505...\n",
       "1  accountNumber: 737265056, customerId: 73726505...\n",
       "2  accountNumber: 737265056, customerId: 73726505...\n",
       "3  accountNumber: 737265056, customerId: 73726505...\n",
       "4  accountNumber: 830329091, customerId: 83032909..."
      ]
     },
     "execution_count": 5,
     "metadata": {},
     "output_type": "execute_result"
    }
   ],
   "source": [
    "df_subset.raw = df_subset.raw.str[1:]\n",
    "df_subset.raw = df_subset.raw.str[:-1]\n",
    "df_subset.head()"
   ]
  },
  {
   "cell_type": "code",
   "execution_count": 6,
   "metadata": {},
   "outputs": [],
   "source": [
    "keys = ['accountnumber', 'customerid', 'creditlimit', 'availablemoney', \n",
    "        'transactiondatetime', 'transactionamount', 'merchantname', 'acqcountry',\n",
    "        'merchantcountrycode', 'posentrymode', 'posconditioncode', 'merchantcategorycode',\n",
    "        'currentexpdate', 'cardpresent', 'accountopendate', 'dateoflastaddresschange',\n",
    "        'cardcvv', 'enteredcvv', 'cardlast4digits', 'transactiontype', 'echobuffer', \n",
    "        'currentbalance', 'merchantcity', 'merchantstate', 'merchantzip', 'cardpresent', \n",
    "        'posonpremises', 'recurringauthind', 'expirationdatekeyinmatch', 'isfraud']"
   ]
  },
  {
   "cell_type": "markdown",
   "metadata": {},
   "source": [
    "- <b> Function parse_into_table:</b> Parse each line in Table and map each column with respective data\n",
    "- <b> Function parse_raw       :</b> Split Columns at \" , \" and Column data at \" : \".\n",
    "- <b> Function map_to_list     :</b> Add column values to respective key"
   ]
  },
  {
   "cell_type": "code",
   "execution_count": 7,
   "metadata": {},
   "outputs": [],
   "source": [
    "def parse_raw(raw_data):\n",
    "    lines = raw_data.split(',')\n",
    "    table = {}\n",
    "    message = ''\n",
    "    keys_to_extract = keys    \n",
    "    for line in lines:\n",
    "        \n",
    "        pairs = line.split(':')  \n",
    "        key = pairs[0].lower().replace(\" \",\"\")\n",
    "        val = pairs[1].strip()\n",
    "        \n",
    "        if key in keys_to_extract:\n",
    "            if val == '':\n",
    "                table[key] = np.nan\n",
    "            else:\n",
    "                table[key] = val\n",
    "    return table"
   ]
  },
  {
   "cell_type": "code",
   "execution_count": 8,
   "metadata": {},
   "outputs": [],
   "source": [
    "def parse_into_table(data):\n",
    "    table = [parse_raw(line) for line in data]\n",
    "    return {\n",
    "        key : map_to_list(table,key) for key in keys \n",
    "    }"
   ]
  },
  {
   "cell_type": "code",
   "execution_count": 9,
   "metadata": {},
   "outputs": [],
   "source": [
    "def map_to_list(table, key):\n",
    "    results = []\n",
    "    for struc in table:\n",
    "        \n",
    "        if key not in struc:\n",
    "            results.append('')\n",
    "        else:\n",
    "            results.append(struc[key])\n",
    "    return results"
   ]
  },
  {
   "cell_type": "code",
   "execution_count": 10,
   "metadata": {},
   "outputs": [],
   "source": [
    "df1 = pd.DataFrame(parse_into_table(df_subset.raw))"
   ]
  },
  {
   "cell_type": "code",
   "execution_count": 11,
   "metadata": {},
   "outputs": [
    {
     "data": {
      "text/html": [
       "<div>\n",
       "<style scoped>\n",
       "    .dataframe tbody tr th:only-of-type {\n",
       "        vertical-align: middle;\n",
       "    }\n",
       "\n",
       "    .dataframe tbody tr th {\n",
       "        vertical-align: top;\n",
       "    }\n",
       "\n",
       "    .dataframe thead th {\n",
       "        text-align: right;\n",
       "    }\n",
       "</style>\n",
       "<table border=\"1\" class=\"dataframe\">\n",
       "  <thead>\n",
       "    <tr style=\"text-align: right;\">\n",
       "      <th></th>\n",
       "      <th>accountnumber</th>\n",
       "      <th>customerid</th>\n",
       "      <th>creditlimit</th>\n",
       "      <th>availablemoney</th>\n",
       "      <th>transactiondatetime</th>\n",
       "      <th>transactionamount</th>\n",
       "      <th>merchantname</th>\n",
       "      <th>acqcountry</th>\n",
       "      <th>merchantcountrycode</th>\n",
       "      <th>posentrymode</th>\n",
       "      <th>...</th>\n",
       "      <th>transactiontype</th>\n",
       "      <th>echobuffer</th>\n",
       "      <th>currentbalance</th>\n",
       "      <th>merchantcity</th>\n",
       "      <th>merchantstate</th>\n",
       "      <th>merchantzip</th>\n",
       "      <th>posonpremises</th>\n",
       "      <th>recurringauthind</th>\n",
       "      <th>expirationdatekeyinmatch</th>\n",
       "      <th>isfraud</th>\n",
       "    </tr>\n",
       "  </thead>\n",
       "  <tbody>\n",
       "    <tr>\n",
       "      <th>0</th>\n",
       "      <td>737265056</td>\n",
       "      <td>737265056</td>\n",
       "      <td>5000.0</td>\n",
       "      <td>5000.0</td>\n",
       "      <td>2016-08-13T14</td>\n",
       "      <td>98.55</td>\n",
       "      <td>Uber</td>\n",
       "      <td>US</td>\n",
       "      <td>US</td>\n",
       "      <td>02</td>\n",
       "      <td>...</td>\n",
       "      <td>PURCHASE</td>\n",
       "      <td>NaN</td>\n",
       "      <td>0.0</td>\n",
       "      <td>NaN</td>\n",
       "      <td>NaN</td>\n",
       "      <td>NaN</td>\n",
       "      <td>NaN</td>\n",
       "      <td>NaN</td>\n",
       "      <td>false</td>\n",
       "      <td>false</td>\n",
       "    </tr>\n",
       "    <tr>\n",
       "      <th>1</th>\n",
       "      <td>737265056</td>\n",
       "      <td>737265056</td>\n",
       "      <td>5000.0</td>\n",
       "      <td>5000.0</td>\n",
       "      <td>2016-10-11T05</td>\n",
       "      <td>74.51</td>\n",
       "      <td>AMC #191138</td>\n",
       "      <td>US</td>\n",
       "      <td>US</td>\n",
       "      <td>09</td>\n",
       "      <td>...</td>\n",
       "      <td>PURCHASE</td>\n",
       "      <td>NaN</td>\n",
       "      <td>0.0</td>\n",
       "      <td>NaN</td>\n",
       "      <td>NaN</td>\n",
       "      <td>NaN</td>\n",
       "      <td>NaN</td>\n",
       "      <td>NaN</td>\n",
       "      <td>false</td>\n",
       "      <td>false</td>\n",
       "    </tr>\n",
       "    <tr>\n",
       "      <th>2</th>\n",
       "      <td>737265056</td>\n",
       "      <td>737265056</td>\n",
       "      <td>5000.0</td>\n",
       "      <td>5000.0</td>\n",
       "      <td>2016-11-08T09</td>\n",
       "      <td>7.47</td>\n",
       "      <td>Play Store</td>\n",
       "      <td>US</td>\n",
       "      <td>US</td>\n",
       "      <td>09</td>\n",
       "      <td>...</td>\n",
       "      <td>PURCHASE</td>\n",
       "      <td>NaN</td>\n",
       "      <td>0.0</td>\n",
       "      <td>NaN</td>\n",
       "      <td>NaN</td>\n",
       "      <td>NaN</td>\n",
       "      <td>NaN</td>\n",
       "      <td>NaN</td>\n",
       "      <td>false</td>\n",
       "      <td>false</td>\n",
       "    </tr>\n",
       "    <tr>\n",
       "      <th>3</th>\n",
       "      <td>737265056</td>\n",
       "      <td>737265056</td>\n",
       "      <td>5000.0</td>\n",
       "      <td>5000.0</td>\n",
       "      <td>2016-12-10T02</td>\n",
       "      <td>7.47</td>\n",
       "      <td>Play Store</td>\n",
       "      <td>US</td>\n",
       "      <td>US</td>\n",
       "      <td>09</td>\n",
       "      <td>...</td>\n",
       "      <td>PURCHASE</td>\n",
       "      <td>NaN</td>\n",
       "      <td>0.0</td>\n",
       "      <td>NaN</td>\n",
       "      <td>NaN</td>\n",
       "      <td>NaN</td>\n",
       "      <td>NaN</td>\n",
       "      <td>NaN</td>\n",
       "      <td>false</td>\n",
       "      <td>false</td>\n",
       "    </tr>\n",
       "    <tr>\n",
       "      <th>4</th>\n",
       "      <td>830329091</td>\n",
       "      <td>830329091</td>\n",
       "      <td>5000.0</td>\n",
       "      <td>5000.0</td>\n",
       "      <td>2016-03-24T21</td>\n",
       "      <td>71.18</td>\n",
       "      <td>Tim Hortons #947751</td>\n",
       "      <td>US</td>\n",
       "      <td>US</td>\n",
       "      <td>02</td>\n",
       "      <td>...</td>\n",
       "      <td>PURCHASE</td>\n",
       "      <td>NaN</td>\n",
       "      <td>0.0</td>\n",
       "      <td>NaN</td>\n",
       "      <td>NaN</td>\n",
       "      <td>NaN</td>\n",
       "      <td>NaN</td>\n",
       "      <td>NaN</td>\n",
       "      <td>false</td>\n",
       "      <td>false</td>\n",
       "    </tr>\n",
       "  </tbody>\n",
       "</table>\n",
       "<p>5 rows × 29 columns</p>\n",
       "</div>"
      ],
      "text/plain": [
       "  accountnumber customerid creditlimit availablemoney transactiondatetime  \\\n",
       "0     737265056  737265056      5000.0         5000.0       2016-08-13T14   \n",
       "1     737265056  737265056      5000.0         5000.0       2016-10-11T05   \n",
       "2     737265056  737265056      5000.0         5000.0       2016-11-08T09   \n",
       "3     737265056  737265056      5000.0         5000.0       2016-12-10T02   \n",
       "4     830329091  830329091      5000.0         5000.0       2016-03-24T21   \n",
       "\n",
       "  transactionamount         merchantname acqcountry merchantcountrycode  \\\n",
       "0             98.55                 Uber         US                  US   \n",
       "1             74.51          AMC #191138         US                  US   \n",
       "2              7.47           Play Store         US                  US   \n",
       "3              7.47           Play Store         US                  US   \n",
       "4             71.18  Tim Hortons #947751         US                  US   \n",
       "\n",
       "  posentrymode  ... transactiontype echobuffer currentbalance merchantcity  \\\n",
       "0           02  ...        PURCHASE        NaN            0.0          NaN   \n",
       "1           09  ...        PURCHASE        NaN            0.0          NaN   \n",
       "2           09  ...        PURCHASE        NaN            0.0          NaN   \n",
       "3           09  ...        PURCHASE        NaN            0.0          NaN   \n",
       "4           02  ...        PURCHASE        NaN            0.0          NaN   \n",
       "\n",
       "  merchantstate merchantzip posonpremises recurringauthind  \\\n",
       "0           NaN         NaN           NaN              NaN   \n",
       "1           NaN         NaN           NaN              NaN   \n",
       "2           NaN         NaN           NaN              NaN   \n",
       "3           NaN         NaN           NaN              NaN   \n",
       "4           NaN         NaN           NaN              NaN   \n",
       "\n",
       "  expirationdatekeyinmatch isfraud  \n",
       "0                    false   false  \n",
       "1                    false   false  \n",
       "2                    false   false  \n",
       "3                    false   false  \n",
       "4                    false   false  \n",
       "\n",
       "[5 rows x 29 columns]"
      ]
     },
     "execution_count": 11,
     "metadata": {},
     "output_type": "execute_result"
    }
   ],
   "source": [
    "df1.head()"
   ]
  },
  {
   "cell_type": "markdown",
   "metadata": {},
   "source": [
    "#### Structure of the data and Number of Null records "
   ]
  },
  {
   "cell_type": "code",
   "execution_count": 12,
   "metadata": {},
   "outputs": [
    {
     "data": {
      "text/plain": [
       "'Dataset Dimensions: 786363x29'"
      ]
     },
     "execution_count": 12,
     "metadata": {},
     "output_type": "execute_result"
    }
   ],
   "source": [
    "\"Dataset Dimensions: {}x{}\".format(df1.shape[0], df1.shape[1])"
   ]
  },
  {
   "cell_type": "code",
   "execution_count": 13,
   "metadata": {},
   "outputs": [
    {
     "data": {
      "text/plain": [
       "accountnumber                    0\n",
       "customerid                       0\n",
       "creditlimit                      0\n",
       "availablemoney                   0\n",
       "transactiondatetime              0\n",
       "transactionamount                0\n",
       "merchantname                     0\n",
       "acqcountry                    4562\n",
       "merchantcountrycode            724\n",
       "posentrymode                  4054\n",
       "posconditioncode               409\n",
       "merchantcategorycode             0\n",
       "currentexpdate                   0\n",
       "cardpresent                      0\n",
       "accountopendate                  0\n",
       "dateoflastaddresschange          0\n",
       "cardcvv                          0\n",
       "enteredcvv                       0\n",
       "cardlast4digits                  0\n",
       "transactiontype                698\n",
       "echobuffer                  786363\n",
       "currentbalance                   0\n",
       "merchantcity                786363\n",
       "merchantstate               786363\n",
       "merchantzip                 786363\n",
       "posonpremises               786363\n",
       "recurringauthind            786363\n",
       "expirationdatekeyinmatch         0\n",
       "isfraud                          0\n",
       "dtype: int64"
      ]
     },
     "execution_count": 13,
     "metadata": {},
     "output_type": "execute_result"
    }
   ],
   "source": [
    "df1.isnull().sum()"
   ]
  },
  {
   "cell_type": "markdown",
   "metadata": {},
   "source": [
    "Columns  <b> 'merchantcity', 'merchantstate', 'merchantzip', 'posonpremises', 'recurringauthind' and 'echobuffer' </b> are empty and removing these columns will have no effect on the final output"
   ]
  },
  {
   "cell_type": "code",
   "execution_count": 14,
   "metadata": {},
   "outputs": [],
   "source": [
    "df1.drop(['merchantcity', 'merchantstate', 'merchantzip', 'posonpremises', 'recurringauthind', 'echobuffer'], axis=1, inplace=True)"
   ]
  },
  {
   "cell_type": "code",
   "execution_count": 15,
   "metadata": {},
   "outputs": [],
   "source": [
    "df1[[\"creditlimit\",\"transactionamount\",\"availablemoney\" ,\"currentbalance\"]] = df1[[\"creditlimit\",\"transactionamount\",\"availablemoney\" ,  \"currentbalance\"]].apply(pd.to_numeric)"
   ]
  },
  {
   "cell_type": "code",
   "execution_count": 16,
   "metadata": {},
   "outputs": [
    {
     "data": {
      "text/plain": [
       "accountnumber                object\n",
       "customerid                   object\n",
       "creditlimit                 float64\n",
       "availablemoney              float64\n",
       "transactiondatetime          object\n",
       "transactionamount           float64\n",
       "merchantname                 object\n",
       "acqcountry                   object\n",
       "merchantcountrycode          object\n",
       "posentrymode                 object\n",
       "posconditioncode             object\n",
       "merchantcategorycode         object\n",
       "currentexpdate               object\n",
       "cardpresent                  object\n",
       "accountopendate              object\n",
       "dateoflastaddresschange      object\n",
       "cardcvv                      object\n",
       "enteredcvv                   object\n",
       "cardlast4digits              object\n",
       "transactiontype              object\n",
       "currentbalance              float64\n",
       "expirationdatekeyinmatch     object\n",
       "isfraud                      object\n",
       "dtype: object"
      ]
     },
     "execution_count": 16,
     "metadata": {},
     "output_type": "execute_result"
    }
   ],
   "source": [
    "df1.dtypes"
   ]
  },
  {
   "cell_type": "markdown",
   "metadata": {},
   "source": [
    "## Data Visualization"
   ]
  },
  {
   "cell_type": "code",
   "execution_count": 17,
   "metadata": {},
   "outputs": [
    {
     "data": {
      "text/plain": [
       "<matplotlib.axes._subplots.AxesSubplot at 0x1cc0ce0d808>"
      ]
     },
     "execution_count": 17,
     "metadata": {},
     "output_type": "execute_result"
    },
    {
     "data": {
      "image/png": "[encoded data removed]",
      "text/plain": [
       "<Figure size 1440x1080 with 4 Axes>"
      ]
     },
     "metadata": {
      "needs_background": "light"
     },
     "output_type": "display_data"
    }
   ],
   "source": [
    "fig, ax = plt.subplots(2, 2, figsize=(20,15))\n",
    "\n",
    "sns.distplot( df1[\"creditlimit\"] , color=\"skyblue\", ax=ax[0, 0])\n",
    "sns.distplot( df1[\"transactionamount\"] , color=\"olive\", ax=ax[0, 1])\n",
    "sns.distplot( df1[\"availablemoney\"] , color=\"gold\", ax=ax[1, 0])\n",
    "sns.distplot( df1[\"currentbalance\"] , color=\"teal\", ax=ax[1, 1])"
   ]
  },
  {
   "cell_type": "markdown",
   "metadata": {},
   "source": [
    "Since columns does not a similar value range we can't use single Boxplot to desplay them all "
   ]
  },
  {
   "cell_type": "code",
   "execution_count": 18,
   "metadata": {},
   "outputs": [
    {
     "data": {
      "text/plain": [
       "<matplotlib.axes._subplots.AxesSubplot at 0x1cc0cfde308>"
      ]
     },
     "execution_count": 18,
     "metadata": {},
     "output_type": "execute_result"
    },
    {
     "data": {
      "image/png": "[encoded data removed]",
      "text/plain": [
       "<Figure size 1080x576 with 4 Axes>"
      ]
     },
     "metadata": {
      "needs_background": "light"
     },
     "output_type": "display_data"
    }
   ],
   "source": [
    "fig, ax = plt.subplots(1, 4, figsize=(15,8))\n",
    "sns.boxplot(ax=ax[0], x=df1['creditlimit'], orient='v',color=\"skyblue\")\n",
    "sns.boxplot(ax=ax[1], x=df1['transactionamount'], orient='v',color=\"olive\")\n",
    "sns.boxplot(ax=ax[2], x=df1['availablemoney'], orient='v',color=\"gold\")\n",
    "sns.boxplot(ax=ax[3], x=df1['currentbalance'], orient='v',color=\"teal\")"
   ]
  },
  {
   "cell_type": "markdown",
   "metadata": {},
   "source": [
    "### Hypotheses about the Data structure.\n",
    "This Data certainly doesn’t follow a normal distribution and from the Box plot it is evident that Column Available money, Current Balance and Transactions have a lot of outliers\n",
    "\n",
    "### Credit Limit\n",
    "- Data have few Outliers\n",
    "- Data is not Normally distributed\n",
    "- Credit limit value is usually predefined by banks and it is evident from the data distribution\n",
    "\n",
    "### Transaction Amount\n",
    "- Data is highly Right skewed\n",
    "- Majority of Transaction data closer to Zero, which implies that most of the customers don’t spend much\n",
    "\n",
    "### Available Money\n",
    "- Data is Right skewed\n",
    "- If available credit is closer to 0, it means Customers don't have any/less credit for making purchases. This can happen if Customer maxed out their credit card\n",
    "\n",
    "### Current Balance\n",
    "- Data is Right skewed\n",
    "- Current balance refers to all unpaid charges on an account, it makes sense that majority of the data have low current balance."
   ]
  },
  {
   "cell_type": "code",
   "execution_count": 19,
   "metadata": {},
   "outputs": [
    {
     "data": {
      "text/plain": [
       "5000.0     201863\n",
       "15000.0    139307\n",
       "7500.0      97913\n",
       "2500.0      75429\n",
       "20000.0     68629\n",
       "10000.0     56889\n",
       "50000.0     48781\n",
       "1000.0      36430\n",
       "250.0       34025\n",
       "500.0       27097\n",
       "Name: creditlimit, dtype: int64"
      ]
     },
     "execution_count": 19,
     "metadata": {},
     "output_type": "execute_result"
    }
   ],
   "source": [
    "df1['creditlimit'].value_counts()"
   ]
  },
  {
   "cell_type": "code",
   "execution_count": 20,
   "metadata": {},
   "outputs": [
    {
     "data": {
      "image/png": "[encoded data removed]",
      "text/plain": [
       "<Figure size 1080x360 with 1 Axes>"
      ]
     },
     "metadata": {
      "needs_background": "light"
     },
     "output_type": "display_data"
    }
   ],
   "source": [
    "fig = plt.figure(figsize=(15,5))\n",
    "ax = sns.countplot(x=\"creditlimit\", data=df1, palette=\"Set3\")"
   ]
  },
  {
   "cell_type": "markdown",
   "metadata": {},
   "source": [
    "### Distribution of Credit Limit among the Customers with Respect to Transaction Amount\n",
    "- Assuming that people with low Credit limit will not Spend more, hence the Transaction Amount will be low.\n",
    "- There are few Outliers as we can see in figure below, but most of the Transactions are under 500"
   ]
  },
  {
   "cell_type": "code",
   "execution_count": 21,
   "metadata": {},
   "outputs": [
    {
     "data": {
      "text/plain": [
       "Text(0, 0.5, 'Transaction Amount')"
      ]
     },
     "execution_count": 21,
     "metadata": {},
     "output_type": "execute_result"
    },
    {
     "data": {
      "image/png": "[encoded data removed]",
      "text/plain": [
       "<Figure size 1800x1080 with 1 Axes>"
      ]
     },
     "metadata": {
      "needs_background": "light"
     },
     "output_type": "display_data"
    }
   ],
   "source": [
    "fig = plt.figure(figsize=(25,15)) \n",
    "sns.boxenplot(data=df1, x='creditlimit', y='transactionamount')\n",
    "plt.title('Transaction Amount Vs Credit Limit')\n",
    "plt.xlabel('Credit Limit')\n",
    "plt.ylabel('Transaction Amount')"
   ]
  },
  {
   "cell_type": "markdown",
   "metadata": {},
   "source": [
    "### This a data distribution by Merchant category code with majority data under Online retail category for Fraud and Not Fraud transactions"
   ]
  },
  {
   "cell_type": "code",
   "execution_count": 22,
   "metadata": {},
   "outputs": [
    {
     "data": {
      "image/png": "[encoded data removed]",
      "text/plain": [
       "<Figure size 2160x1080 with 1 Axes>"
      ]
     },
     "metadata": {
      "needs_background": "light"
     },
     "output_type": "display_data"
    }
   ],
   "source": [
    "fig = plt.figure(figsize=(30,15)) \n",
    "ax = sns.countplot(x=\"merchantcategorycode\",hue='isfraud' , data=df1)"
   ]
  },
  {
   "cell_type": "markdown",
   "metadata": {},
   "source": [
    "### Box plot of Number of IsFraud Vs Not Fraud\n",
    "- We can see that data is highly unbalanced with more than 95% as False and Rest as True"
   ]
  },
  {
   "cell_type": "code",
   "execution_count": 23,
   "metadata": {},
   "outputs": [
    {
     "data": {
      "image/png": "[encoded data removed]",
      "text/plain": [
       "<Figure size 720x360 with 1 Axes>"
      ]
     },
     "metadata": {
      "needs_background": "light"
     },
     "output_type": "display_data"
    }
   ],
   "source": [
    "fig, ax1 = plt.subplots(figsize=(10,5))\n",
    "graph = sns.countplot(ax=ax1,x='isfraud', data=df1,palette=\"Set2\")\n",
    "graph.set_xticklabels(graph.get_xticklabels())\n",
    "for p in graph.patches:\n",
    "    height = p.get_height()\n",
    "    graph.text(p.get_x()+p.get_width()/2., height + 0.1,height ,ha=\"center\")"
   ]
  },
  {
   "cell_type": "code",
   "execution_count": 24,
   "metadata": {},
   "outputs": [
    {
     "data": {
      "text/plain": [
       "Text(0.5, 1.0, 'POS Entry Mode')"
      ]
     },
     "execution_count": 24,
     "metadata": {},
     "output_type": "execute_result"
    },
    {
     "data": {
      "image/png": "[encoded data removed]",
      "text/plain": [
       "<Figure size 864x504 with 1 Axes>"
      ]
     },
     "metadata": {
      "needs_background": "light"
     },
     "output_type": "display_data"
    }
   ],
   "source": [
    "fig, ax1 = plt.subplots(figsize=(12,7))\n",
    "graph =sns.countplot(data=df1, x='posentrymode', hue='isfraud',palette=\"Set2\")\n",
    "graph.set_xticklabels(graph.get_xticklabels())\n",
    "for p in graph.patches:\n",
    "    height = p.get_height()\n",
    "    graph.text(p.get_x()+p.get_width()/2., height + 0.1,height ,ha=\"center\")\n",
    "plt.title('POS Entry Mode')"
   ]
  },
  {
   "cell_type": "markdown",
   "metadata": {},
   "source": [
    "### Graph of Transaction Type and Fraudulent data\n",
    "- Mean of Fraud transaction amount is more as compared to not Fraud Transaction."
   ]
  },
  {
   "cell_type": "code",
   "execution_count": 25,
   "metadata": {},
   "outputs": [
    {
     "data": {
      "text/plain": [
       "Text(0.5, 1.0, 'Transaction Type')"
      ]
     },
     "execution_count": 25,
     "metadata": {},
     "output_type": "execute_result"
    },
    {
     "data": {
      "image/png": "[encoded data removed]",
      "text/plain": [
       "<Figure size 864x504 with 1 Axes>"
      ]
     },
     "metadata": {
      "needs_background": "light"
     },
     "output_type": "display_data"
    }
   ],
   "source": [
    "fig, ax1 = plt.subplots(figsize=(12,7))\n",
    "sns.boxenplot(data=df1, y = 'transactionamount', x='transactiontype', hue='isfraud')\n",
    "plt.title('Transaction Type')"
   ]
  },
  {
   "cell_type": "markdown",
   "metadata": {},
   "source": [
    "### Graph: Transaction Type Vs Available money\n",
    "- This graph has strangely similar distribution for all the Transaction Types"
   ]
  },
  {
   "cell_type": "code",
   "execution_count": 26,
   "metadata": {},
   "outputs": [
    {
     "data": {
      "text/plain": [
       "Text(0.5, 1.0, 'Transaction Type Vs Available money')"
      ]
     },
     "execution_count": 26,
     "metadata": {},
     "output_type": "execute_result"
    },
    {
     "data": {
      "image/png": "[encoded data removed]",
      "text/plain": [
       "<Figure size 864x504 with 1 Axes>"
      ]
     },
     "metadata": {
      "needs_background": "light"
     },
     "output_type": "display_data"
    }
   ],
   "source": [
    "fig, ax1 = plt.subplots(figsize=(12,7))\n",
    "sns.boxenplot(data=df1, y = 'availablemoney', x='transactiontype', hue='isfraud')\n",
    "plt.title('Transaction Type Vs Available money')"
   ]
  },
  {
   "cell_type": "markdown",
   "metadata": {},
   "source": [
    "Converting Binary variables "
   ]
  },
  {
   "cell_type": "code",
   "execution_count": 27,
   "metadata": {},
   "outputs": [],
   "source": [
    "df1['correct_cvv'] = df1['cardcvv'] == df1['enteredcvv']\n",
    "for col in ['cardpresent', 'expirationdatekeyinmatch', 'isfraud']:\n",
    "    df1[col] = df1[col].replace({'false': 0, 'true': 1})\n",
    "df1['correct_cvv'] = df1['correct_cvv'].replace({False: 0, True: 1})"
   ]
  },
  {
   "cell_type": "code",
   "execution_count": 28,
   "metadata": {},
   "outputs": [],
   "source": [
    "df1 = df1.dropna()"
   ]
  },
  {
   "cell_type": "code",
   "execution_count": 29,
   "metadata": {},
   "outputs": [],
   "source": [
    "df1.drop(['cardcvv', 'enteredcvv','dateoflastaddresschange','accountopendate',\n",
    "          'cardlast4digits','currentexpdate','merchantname'],axis=1, inplace=True)"
   ]
  },
  {
   "cell_type": "code",
   "execution_count": 30,
   "metadata": {},
   "outputs": [
    {
     "data": {
      "text/html": [
       "<div>\n",
       "<style scoped>\n",
       "    .dataframe tbody tr th:only-of-type {\n",
       "        vertical-align: middle;\n",
       "    }\n",
       "\n",
       "    .dataframe tbody tr th {\n",
       "        vertical-align: top;\n",
       "    }\n",
       "\n",
       "    .dataframe thead th {\n",
       "        text-align: right;\n",
       "    }\n",
       "</style>\n",
       "<table border=\"1\" class=\"dataframe\">\n",
       "  <thead>\n",
       "    <tr style=\"text-align: right;\">\n",
       "      <th></th>\n",
       "      <th>accountnumber</th>\n",
       "      <th>customerid</th>\n",
       "      <th>creditlimit</th>\n",
       "      <th>availablemoney</th>\n",
       "      <th>transactiondatetime</th>\n",
       "      <th>transactionamount</th>\n",
       "      <th>acqcountry</th>\n",
       "      <th>merchantcountrycode</th>\n",
       "      <th>posentrymode</th>\n",
       "      <th>posconditioncode</th>\n",
       "      <th>merchantcategorycode</th>\n",
       "      <th>cardpresent</th>\n",
       "      <th>transactiontype</th>\n",
       "      <th>currentbalance</th>\n",
       "      <th>expirationdatekeyinmatch</th>\n",
       "      <th>isfraud</th>\n",
       "      <th>correct_cvv</th>\n",
       "    </tr>\n",
       "  </thead>\n",
       "  <tbody>\n",
       "    <tr>\n",
       "      <th>0</th>\n",
       "      <td>737265056</td>\n",
       "      <td>737265056</td>\n",
       "      <td>5000.0</td>\n",
       "      <td>5000.0</td>\n",
       "      <td>2016-08-13T14</td>\n",
       "      <td>98.55</td>\n",
       "      <td>US</td>\n",
       "      <td>US</td>\n",
       "      <td>02</td>\n",
       "      <td>01</td>\n",
       "      <td>rideshare</td>\n",
       "      <td>0</td>\n",
       "      <td>PURCHASE</td>\n",
       "      <td>0.0</td>\n",
       "      <td>0</td>\n",
       "      <td>0</td>\n",
       "      <td>1</td>\n",
       "    </tr>\n",
       "    <tr>\n",
       "      <th>1</th>\n",
       "      <td>737265056</td>\n",
       "      <td>737265056</td>\n",
       "      <td>5000.0</td>\n",
       "      <td>5000.0</td>\n",
       "      <td>2016-10-11T05</td>\n",
       "      <td>74.51</td>\n",
       "      <td>US</td>\n",
       "      <td>US</td>\n",
       "      <td>09</td>\n",
       "      <td>01</td>\n",
       "      <td>entertainment</td>\n",
       "      <td>1</td>\n",
       "      <td>PURCHASE</td>\n",
       "      <td>0.0</td>\n",
       "      <td>0</td>\n",
       "      <td>0</td>\n",
       "      <td>1</td>\n",
       "    </tr>\n",
       "    <tr>\n",
       "      <th>2</th>\n",
       "      <td>737265056</td>\n",
       "      <td>737265056</td>\n",
       "      <td>5000.0</td>\n",
       "      <td>5000.0</td>\n",
       "      <td>2016-11-08T09</td>\n",
       "      <td>7.47</td>\n",
       "      <td>US</td>\n",
       "      <td>US</td>\n",
       "      <td>09</td>\n",
       "      <td>01</td>\n",
       "      <td>mobileapps</td>\n",
       "      <td>0</td>\n",
       "      <td>PURCHASE</td>\n",
       "      <td>0.0</td>\n",
       "      <td>0</td>\n",
       "      <td>0</td>\n",
       "      <td>1</td>\n",
       "    </tr>\n",
       "    <tr>\n",
       "      <th>3</th>\n",
       "      <td>737265056</td>\n",
       "      <td>737265056</td>\n",
       "      <td>5000.0</td>\n",
       "      <td>5000.0</td>\n",
       "      <td>2016-12-10T02</td>\n",
       "      <td>7.47</td>\n",
       "      <td>US</td>\n",
       "      <td>US</td>\n",
       "      <td>09</td>\n",
       "      <td>01</td>\n",
       "      <td>mobileapps</td>\n",
       "      <td>0</td>\n",
       "      <td>PURCHASE</td>\n",
       "      <td>0.0</td>\n",
       "      <td>0</td>\n",
       "      <td>0</td>\n",
       "      <td>1</td>\n",
       "    </tr>\n",
       "    <tr>\n",
       "      <th>4</th>\n",
       "      <td>830329091</td>\n",
       "      <td>830329091</td>\n",
       "      <td>5000.0</td>\n",
       "      <td>5000.0</td>\n",
       "      <td>2016-03-24T21</td>\n",
       "      <td>71.18</td>\n",
       "      <td>US</td>\n",
       "      <td>US</td>\n",
       "      <td>02</td>\n",
       "      <td>01</td>\n",
       "      <td>fastfood</td>\n",
       "      <td>1</td>\n",
       "      <td>PURCHASE</td>\n",
       "      <td>0.0</td>\n",
       "      <td>0</td>\n",
       "      <td>0</td>\n",
       "      <td>1</td>\n",
       "    </tr>\n",
       "  </tbody>\n",
       "</table>\n",
       "</div>"
      ],
      "text/plain": [
       "  accountnumber customerid  creditlimit  availablemoney transactiondatetime  \\\n",
       "0     737265056  737265056       5000.0          5000.0       2016-08-13T14   \n",
       "1     737265056  737265056       5000.0          5000.0       2016-10-11T05   \n",
       "2     737265056  737265056       5000.0          5000.0       2016-11-08T09   \n",
       "3     737265056  737265056       5000.0          5000.0       2016-12-10T02   \n",
       "4     830329091  830329091       5000.0          5000.0       2016-03-24T21   \n",
       "\n",
       "   transactionamount acqcountry merchantcountrycode posentrymode  \\\n",
       "0              98.55         US                  US           02   \n",
       "1              74.51         US                  US           09   \n",
       "2               7.47         US                  US           09   \n",
       "3               7.47         US                  US           09   \n",
       "4              71.18         US                  US           02   \n",
       "\n",
       "  posconditioncode merchantcategorycode  cardpresent transactiontype  \\\n",
       "0               01            rideshare            0        PURCHASE   \n",
       "1               01        entertainment            1        PURCHASE   \n",
       "2               01           mobileapps            0        PURCHASE   \n",
       "3               01           mobileapps            0        PURCHASE   \n",
       "4               01             fastfood            1        PURCHASE   \n",
       "\n",
       "   currentbalance  expirationdatekeyinmatch  isfraud  correct_cvv  \n",
       "0             0.0                         0        0            1  \n",
       "1             0.0                         0        0            1  \n",
       "2             0.0                         0        0            1  \n",
       "3             0.0                         0        0            1  \n",
       "4             0.0                         0        0            1  "
      ]
     },
     "execution_count": 30,
     "metadata": {},
     "output_type": "execute_result"
    }
   ],
   "source": [
    "df1.head()"
   ]
  },
  {
   "cell_type": "markdown",
   "metadata": {},
   "source": [
    "### Data Wrangling - Duplicate Transactions"
   ]
  },
  {
   "cell_type": "code",
   "execution_count": 31,
   "metadata": {},
   "outputs": [],
   "source": [
    "df_identify = df1.copy()\n",
    "df_identify.drop(['acqcountry', 'merchantcountrycode','posentrymode',\n",
    "          'expirationdatekeyinmatch','customerid'],axis=1, inplace=True)"
   ]
  },
  {
   "cell_type": "markdown",
   "metadata": {},
   "source": [
    "- We have to identify Duplicate card swipes; I am filtering out non Card transactions and perform analysis just on swipe transaction."
   ]
  },
  {
   "cell_type": "code",
   "execution_count": 32,
   "metadata": {},
   "outputs": [
    {
     "data": {
      "text/html": [
       "<div>\n",
       "<style scoped>\n",
       "    .dataframe tbody tr th:only-of-type {\n",
       "        vertical-align: middle;\n",
       "    }\n",
       "\n",
       "    .dataframe tbody tr th {\n",
       "        vertical-align: top;\n",
       "    }\n",
       "\n",
       "    .dataframe thead th {\n",
       "        text-align: right;\n",
       "    }\n",
       "</style>\n",
       "<table border=\"1\" class=\"dataframe\">\n",
       "  <thead>\n",
       "    <tr style=\"text-align: right;\">\n",
       "      <th></th>\n",
       "      <th>accountnumber</th>\n",
       "      <th>creditlimit</th>\n",
       "      <th>availablemoney</th>\n",
       "      <th>transactiondatetime</th>\n",
       "      <th>transactionamount</th>\n",
       "      <th>posconditioncode</th>\n",
       "      <th>merchantcategorycode</th>\n",
       "      <th>cardpresent</th>\n",
       "      <th>transactiontype</th>\n",
       "      <th>currentbalance</th>\n",
       "      <th>isfraud</th>\n",
       "      <th>correct_cvv</th>\n",
       "    </tr>\n",
       "  </thead>\n",
       "  <tbody>\n",
       "    <tr>\n",
       "      <th>1</th>\n",
       "      <td>737265056</td>\n",
       "      <td>5000.0</td>\n",
       "      <td>5000.0</td>\n",
       "      <td>2016-10-11T05</td>\n",
       "      <td>74.51</td>\n",
       "      <td>01</td>\n",
       "      <td>entertainment</td>\n",
       "      <td>1</td>\n",
       "      <td>PURCHASE</td>\n",
       "      <td>0.0</td>\n",
       "      <td>0</td>\n",
       "      <td>1</td>\n",
       "    </tr>\n",
       "    <tr>\n",
       "      <th>4</th>\n",
       "      <td>830329091</td>\n",
       "      <td>5000.0</td>\n",
       "      <td>5000.0</td>\n",
       "      <td>2016-03-24T21</td>\n",
       "      <td>71.18</td>\n",
       "      <td>01</td>\n",
       "      <td>fastfood</td>\n",
       "      <td>1</td>\n",
       "      <td>PURCHASE</td>\n",
       "      <td>0.0</td>\n",
       "      <td>0</td>\n",
       "      <td>1</td>\n",
       "    </tr>\n",
       "    <tr>\n",
       "      <th>5</th>\n",
       "      <td>830329091</td>\n",
       "      <td>5000.0</td>\n",
       "      <td>5000.0</td>\n",
       "      <td>2016-04-19T16</td>\n",
       "      <td>30.76</td>\n",
       "      <td>01</td>\n",
       "      <td>fastfood</td>\n",
       "      <td>1</td>\n",
       "      <td>PURCHASE</td>\n",
       "      <td>0.0</td>\n",
       "      <td>0</td>\n",
       "      <td>1</td>\n",
       "    </tr>\n",
       "    <tr>\n",
       "      <th>6</th>\n",
       "      <td>830329091</td>\n",
       "      <td>5000.0</td>\n",
       "      <td>5000.0</td>\n",
       "      <td>2016-05-21T14</td>\n",
       "      <td>57.28</td>\n",
       "      <td>01</td>\n",
       "      <td>fastfood</td>\n",
       "      <td>1</td>\n",
       "      <td>PURCHASE</td>\n",
       "      <td>0.0</td>\n",
       "      <td>0</td>\n",
       "      <td>1</td>\n",
       "    </tr>\n",
       "    <tr>\n",
       "      <th>7</th>\n",
       "      <td>830329091</td>\n",
       "      <td>5000.0</td>\n",
       "      <td>5000.0</td>\n",
       "      <td>2016-06-03T00</td>\n",
       "      <td>9.37</td>\n",
       "      <td>01</td>\n",
       "      <td>fastfood</td>\n",
       "      <td>1</td>\n",
       "      <td>PURCHASE</td>\n",
       "      <td>0.0</td>\n",
       "      <td>0</td>\n",
       "      <td>1</td>\n",
       "    </tr>\n",
       "  </tbody>\n",
       "</table>\n",
       "</div>"
      ],
      "text/plain": [
       "  accountnumber  creditlimit  availablemoney transactiondatetime  \\\n",
       "1     737265056       5000.0          5000.0       2016-10-11T05   \n",
       "4     830329091       5000.0          5000.0       2016-03-24T21   \n",
       "5     830329091       5000.0          5000.0       2016-04-19T16   \n",
       "6     830329091       5000.0          5000.0       2016-05-21T14   \n",
       "7     830329091       5000.0          5000.0       2016-06-03T00   \n",
       "\n",
       "   transactionamount posconditioncode merchantcategorycode  cardpresent  \\\n",
       "1              74.51               01        entertainment            1   \n",
       "4              71.18               01             fastfood            1   \n",
       "5              30.76               01             fastfood            1   \n",
       "6              57.28               01             fastfood            1   \n",
       "7               9.37               01             fastfood            1   \n",
       "\n",
       "  transactiontype  currentbalance  isfraud  correct_cvv  \n",
       "1        PURCHASE             0.0        0            1  \n",
       "4        PURCHASE             0.0        0            1  \n",
       "5        PURCHASE             0.0        0            1  \n",
       "6        PURCHASE             0.0        0            1  \n",
       "7        PURCHASE             0.0        0            1  "
      ]
     },
     "execution_count": 32,
     "metadata": {},
     "output_type": "execute_result"
    }
   ],
   "source": [
    "df_identify = df_identify[df_identify['cardpresent'] == 1]\n",
    "df_identify.head()"
   ]
  },
  {
   "cell_type": "markdown",
   "metadata": {},
   "source": [
    "- Assuming there are no transactions in between the reversed and Multi-swipe transactions\n",
    "- My approach to solve this problem is to start with 1 account number getting a desired output then use same methods for bulk data\n",
    "- 570884863 has 9907 transaction details \n",
    "- Account number and CutomerID both the column has same details and hence one can be removed\n",
    "- Removing unnecessary columns <b> 'posconditioncode','cardpresent','creditlimit','merchantcategorycode', 'transactiontype','isfraud','correct_cvv' <b/>"
   ]
  },
  {
   "cell_type": "code",
   "execution_count": 33,
   "metadata": {},
   "outputs": [],
   "source": [
    "df_acct = df_identify[df_identify['accountnumber'] == '570884863']\n",
    "\n",
    "df_acct.drop(['posconditioncode','cardpresent','creditlimit','merchantcategorycode',\n",
    "          'transactiontype','isfraud','correct_cvv'],axis=1, inplace=True)"
   ]
  },
  {
   "cell_type": "markdown",
   "metadata": {},
   "source": [
    "- Convert transactiondatetime column to just Date, as it would be easier to Group by date and get duplicate values"
   ]
  },
  {
   "cell_type": "code",
   "execution_count": 34,
   "metadata": {},
   "outputs": [
    {
     "data": {
      "text/html": [
       "<div>\n",
       "<style scoped>\n",
       "    .dataframe tbody tr th:only-of-type {\n",
       "        vertical-align: middle;\n",
       "    }\n",
       "\n",
       "    .dataframe tbody tr th {\n",
       "        vertical-align: top;\n",
       "    }\n",
       "\n",
       "    .dataframe thead th {\n",
       "        text-align: right;\n",
       "    }\n",
       "</style>\n",
       "<table border=\"1\" class=\"dataframe\">\n",
       "  <thead>\n",
       "    <tr style=\"text-align: right;\">\n",
       "      <th></th>\n",
       "      <th>accountnumber</th>\n",
       "      <th>transactiondatetime</th>\n",
       "      <th>transactionamount</th>\n",
       "      <th>0</th>\n",
       "    </tr>\n",
       "  </thead>\n",
       "  <tbody>\n",
       "    <tr>\n",
       "      <th>0</th>\n",
       "      <td>570884863</td>\n",
       "      <td>2016-01-01</td>\n",
       "      <td>7.87</td>\n",
       "      <td>1</td>\n",
       "    </tr>\n",
       "    <tr>\n",
       "      <th>1</th>\n",
       "      <td>570884863</td>\n",
       "      <td>2016-01-01</td>\n",
       "      <td>17.35</td>\n",
       "      <td>1</td>\n",
       "    </tr>\n",
       "    <tr>\n",
       "      <th>2</th>\n",
       "      <td>570884863</td>\n",
       "      <td>2016-01-01</td>\n",
       "      <td>34.66</td>\n",
       "      <td>1</td>\n",
       "    </tr>\n",
       "    <tr>\n",
       "      <th>3</th>\n",
       "      <td>570884863</td>\n",
       "      <td>2016-01-01</td>\n",
       "      <td>36.46</td>\n",
       "      <td>1</td>\n",
       "    </tr>\n",
       "    <tr>\n",
       "      <th>4</th>\n",
       "      <td>570884863</td>\n",
       "      <td>2016-01-01</td>\n",
       "      <td>37.32</td>\n",
       "      <td>1</td>\n",
       "    </tr>\n",
       "    <tr>\n",
       "      <th>...</th>\n",
       "      <td>...</td>\n",
       "      <td>...</td>\n",
       "      <td>...</td>\n",
       "      <td>...</td>\n",
       "    </tr>\n",
       "    <tr>\n",
       "      <th>9705</th>\n",
       "      <td>570884863</td>\n",
       "      <td>2016-12-30</td>\n",
       "      <td>300.20</td>\n",
       "      <td>1</td>\n",
       "    </tr>\n",
       "    <tr>\n",
       "      <th>9706</th>\n",
       "      <td>570884863</td>\n",
       "      <td>2016-12-30</td>\n",
       "      <td>368.19</td>\n",
       "      <td>1</td>\n",
       "    </tr>\n",
       "    <tr>\n",
       "      <th>9707</th>\n",
       "      <td>570884863</td>\n",
       "      <td>2016-12-30</td>\n",
       "      <td>445.54</td>\n",
       "      <td>1</td>\n",
       "    </tr>\n",
       "    <tr>\n",
       "      <th>9708</th>\n",
       "      <td>570884863</td>\n",
       "      <td>2016-12-30</td>\n",
       "      <td>504.96</td>\n",
       "      <td>1</td>\n",
       "    </tr>\n",
       "    <tr>\n",
       "      <th>9709</th>\n",
       "      <td>570884863</td>\n",
       "      <td>2016-12-30</td>\n",
       "      <td>754.36</td>\n",
       "      <td>1</td>\n",
       "    </tr>\n",
       "  </tbody>\n",
       "</table>\n",
       "<p>9710 rows × 4 columns</p>\n",
       "</div>"
      ],
      "text/plain": [
       "     accountnumber transactiondatetime  transactionamount  0\n",
       "0        570884863          2016-01-01               7.87  1\n",
       "1        570884863          2016-01-01              17.35  1\n",
       "2        570884863          2016-01-01              34.66  1\n",
       "3        570884863          2016-01-01              36.46  1\n",
       "4        570884863          2016-01-01              37.32  1\n",
       "...            ...                 ...                ... ..\n",
       "9705     570884863          2016-12-30             300.20  1\n",
       "9706     570884863          2016-12-30             368.19  1\n",
       "9707     570884863          2016-12-30             445.54  1\n",
       "9708     570884863          2016-12-30             504.96  1\n",
       "9709     570884863          2016-12-30             754.36  1\n",
       "\n",
       "[9710 rows x 4 columns]"
      ]
     },
     "execution_count": 34,
     "metadata": {},
     "output_type": "execute_result"
    }
   ],
   "source": [
    "df_acct['time'] = pd.to_datetime(df_acct['transactiondatetime']).dt.time\n",
    "\n",
    "df_acct['transactiondatetime'] = pd.to_datetime(df_acct['transactiondatetime']).dt.date\n",
    "\n",
    "df_acct.sort_values(['accountnumber','transactiondatetime']).groupby(['accountnumber','transactiondatetime', 'transactionamount']).size().reset_index()"
   ]
  },
  {
   "cell_type": "code",
   "execution_count": 35,
   "metadata": {},
   "outputs": [
    {
     "data": {
      "text/plain": [
       "0    9541\n",
       "1     366\n",
       "Name: flag, dtype: int64"
      ]
     },
     "execution_count": 35,
     "metadata": {},
     "output_type": "execute_result"
    }
   ],
   "source": [
    "df_acct['flag'] = df_acct.transactionamount.groupby([df_acct.transactiondatetime,\n",
    "                                                     df_acct.transactionamount.diff().ne(0).cumsum()]).transform('size').ge(2).astype(int) \n",
    "df_acct['flag'].value_counts()\n"
   ]
  },
  {
   "cell_type": "markdown",
   "metadata": {},
   "source": [
    "#### In total there are 183 ( 366/2 : 362 is orignal plus Duplicate )  Duplicate Transactions just for 570884863\n",
    "- Filter out Duplicate Normal transaction and its Duplicate Transaction\n",
    "- Get the difference in Available money of Normal transaction and its Duplicate Transaction group by the Customer\n",
    "- Remove Normal Transaction \n",
    "- Create a new column to Identify multi-swipe or reversed transaction\n"
   ]
  },
  {
   "cell_type": "code",
   "execution_count": 36,
   "metadata": {},
   "outputs": [
    {
     "data": {
      "text/html": [
       "<div>\n",
       "<style scoped>\n",
       "    .dataframe tbody tr th:only-of-type {\n",
       "        vertical-align: middle;\n",
       "    }\n",
       "\n",
       "    .dataframe tbody tr th {\n",
       "        vertical-align: top;\n",
       "    }\n",
       "\n",
       "    .dataframe thead th {\n",
       "        text-align: right;\n",
       "    }\n",
       "</style>\n",
       "<table border=\"1\" class=\"dataframe\">\n",
       "  <thead>\n",
       "    <tr style=\"text-align: right;\">\n",
       "      <th></th>\n",
       "      <th>accountnumber</th>\n",
       "      <th>availablemoney</th>\n",
       "      <th>transactiondatetime</th>\n",
       "      <th>transactionamount</th>\n",
       "      <th>currentbalance</th>\n",
       "      <th>time</th>\n",
       "      <th>flag</th>\n",
       "      <th>diff</th>\n",
       "      <th>identity</th>\n",
       "    </tr>\n",
       "  </thead>\n",
       "  <tbody>\n",
       "    <tr>\n",
       "      <th>650854</th>\n",
       "      <td>570884863</td>\n",
       "      <td>2441.37</td>\n",
       "      <td>2016-01-02</td>\n",
       "      <td>0.19</td>\n",
       "      <td>2558.63</td>\n",
       "      <td>02:00:00</td>\n",
       "      <td>1</td>\n",
       "      <td>-0.19</td>\n",
       "      <td>reversed</td>\n",
       "    </tr>\n",
       "    <tr>\n",
       "      <th>650902</th>\n",
       "      <td>570884863</td>\n",
       "      <td>2913.42</td>\n",
       "      <td>2016-01-03</td>\n",
       "      <td>125.98</td>\n",
       "      <td>2086.58</td>\n",
       "      <td>19:00:00</td>\n",
       "      <td>1</td>\n",
       "      <td>-125.98</td>\n",
       "      <td>reversed</td>\n",
       "    </tr>\n",
       "    <tr>\n",
       "      <th>650944</th>\n",
       "      <td>570884863</td>\n",
       "      <td>1929.77</td>\n",
       "      <td>2016-01-05</td>\n",
       "      <td>21.53</td>\n",
       "      <td>3070.23</td>\n",
       "      <td>07:00:00</td>\n",
       "      <td>1</td>\n",
       "      <td>-21.53</td>\n",
       "      <td>reversed</td>\n",
       "    </tr>\n",
       "    <tr>\n",
       "      <th>651001</th>\n",
       "      <td>570884863</td>\n",
       "      <td>757.43</td>\n",
       "      <td>2016-01-07</td>\n",
       "      <td>145.78</td>\n",
       "      <td>4242.57</td>\n",
       "      <td>01:00:00</td>\n",
       "      <td>1</td>\n",
       "      <td>-145.78</td>\n",
       "      <td>reversed</td>\n",
       "    </tr>\n",
       "    <tr>\n",
       "      <th>651012</th>\n",
       "      <td>570884863</td>\n",
       "      <td>3159.12</td>\n",
       "      <td>2016-01-07</td>\n",
       "      <td>265.03</td>\n",
       "      <td>1840.88</td>\n",
       "      <td>10:00:00</td>\n",
       "      <td>1</td>\n",
       "      <td>2835.12</td>\n",
       "      <td>multi-swipe</td>\n",
       "    </tr>\n",
       "    <tr>\n",
       "      <th>...</th>\n",
       "      <td>...</td>\n",
       "      <td>...</td>\n",
       "      <td>...</td>\n",
       "      <td>...</td>\n",
       "      <td>...</td>\n",
       "      <td>...</td>\n",
       "      <td>...</td>\n",
       "      <td>...</td>\n",
       "      <td>...</td>\n",
       "    </tr>\n",
       "    <tr>\n",
       "      <th>661453</th>\n",
       "      <td>570884863</td>\n",
       "      <td>855.93</td>\n",
       "      <td>2016-12-22</td>\n",
       "      <td>88.73</td>\n",
       "      <td>4144.07</td>\n",
       "      <td>19:00:00</td>\n",
       "      <td>1</td>\n",
       "      <td>-88.73</td>\n",
       "      <td>reversed</td>\n",
       "    </tr>\n",
       "    <tr>\n",
       "      <th>661558</th>\n",
       "      <td>570884863</td>\n",
       "      <td>446.16</td>\n",
       "      <td>2016-12-26</td>\n",
       "      <td>202.58</td>\n",
       "      <td>4553.84</td>\n",
       "      <td>12:00:00</td>\n",
       "      <td>1</td>\n",
       "      <td>-202.58</td>\n",
       "      <td>reversed</td>\n",
       "    </tr>\n",
       "    <tr>\n",
       "      <th>661601</th>\n",
       "      <td>570884863</td>\n",
       "      <td>1971.65</td>\n",
       "      <td>2016-12-28</td>\n",
       "      <td>302.20</td>\n",
       "      <td>3028.35</td>\n",
       "      <td>02:00:00</td>\n",
       "      <td>1</td>\n",
       "      <td>-302.20</td>\n",
       "      <td>reversed</td>\n",
       "    </tr>\n",
       "    <tr>\n",
       "      <th>661642</th>\n",
       "      <td>570884863</td>\n",
       "      <td>2485.21</td>\n",
       "      <td>2016-12-29</td>\n",
       "      <td>59.75</td>\n",
       "      <td>2514.79</td>\n",
       "      <td>06:00:00</td>\n",
       "      <td>1</td>\n",
       "      <td>-59.75</td>\n",
       "      <td>reversed</td>\n",
       "    </tr>\n",
       "    <tr>\n",
       "      <th>661654</th>\n",
       "      <td>570884863</td>\n",
       "      <td>1036.72</td>\n",
       "      <td>2016-12-29</td>\n",
       "      <td>8.10</td>\n",
       "      <td>3963.28</td>\n",
       "      <td>13:00:00</td>\n",
       "      <td>1</td>\n",
       "      <td>-8.10</td>\n",
       "      <td>reversed</td>\n",
       "    </tr>\n",
       "  </tbody>\n",
       "</table>\n",
       "<p>188 rows × 9 columns</p>\n",
       "</div>"
      ],
      "text/plain": [
       "       accountnumber  availablemoney transactiondatetime  transactionamount  \\\n",
       "650854     570884863         2441.37          2016-01-02               0.19   \n",
       "650902     570884863         2913.42          2016-01-03             125.98   \n",
       "650944     570884863         1929.77          2016-01-05              21.53   \n",
       "651001     570884863          757.43          2016-01-07             145.78   \n",
       "651012     570884863         3159.12          2016-01-07             265.03   \n",
       "...              ...             ...                 ...                ...   \n",
       "661453     570884863          855.93          2016-12-22              88.73   \n",
       "661558     570884863          446.16          2016-12-26             202.58   \n",
       "661601     570884863         1971.65          2016-12-28             302.20   \n",
       "661642     570884863         2485.21          2016-12-29              59.75   \n",
       "661654     570884863         1036.72          2016-12-29               8.10   \n",
       "\n",
       "        currentbalance      time  flag     diff     identity  \n",
       "650854         2558.63  02:00:00     1    -0.19     reversed  \n",
       "650902         2086.58  19:00:00     1  -125.98     reversed  \n",
       "650944         3070.23  07:00:00     1   -21.53     reversed  \n",
       "651001         4242.57  01:00:00     1  -145.78     reversed  \n",
       "651012         1840.88  10:00:00     1  2835.12  multi-swipe  \n",
       "...                ...       ...   ...      ...          ...  \n",
       "661453         4144.07  19:00:00     1   -88.73     reversed  \n",
       "661558         4553.84  12:00:00     1  -202.58     reversed  \n",
       "661601         3028.35  02:00:00     1  -302.20     reversed  \n",
       "661642         2514.79  06:00:00     1   -59.75     reversed  \n",
       "661654         3963.28  13:00:00     1    -8.10     reversed  \n",
       "\n",
       "[188 rows x 9 columns]"
      ]
     },
     "execution_count": 36,
     "metadata": {},
     "output_type": "execute_result"
    }
   ],
   "source": [
    "df_acct = df_acct[df_acct['flag'] == 1]\n",
    "\n",
    "#Sort by Date and Time\n",
    "df_acct['diff'] = df_acct.sort_values(['accountnumber','transactiondatetime' ,'time']).groupby(['accountnumber','transactiondatetime', 'transactionamount'])['availablemoney'].diff().fillna(0).astype(float)\n",
    "\n",
    "# Getting just a Single transaction ( reversed/multi-swipe )\n",
    "df_acct = df_acct[df_acct['diff'] != 0]\n",
    "\n",
    "df_acct['identity'] = np.where(df_acct['diff'] > 0, 'multi-swipe','reversed')\n",
    "\n",
    "# Positive is Multi-swipe \n",
    "# Negative is Reverse \n",
    "df_acct\n"
   ]
  },
  {
   "cell_type": "code",
   "execution_count": 37,
   "metadata": {},
   "outputs": [
    {
     "data": {
      "text/plain": [
       "reversed       174\n",
       "multi-swipe     14\n",
       "Name: identity, dtype: int64"
      ]
     },
     "execution_count": 37,
     "metadata": {},
     "output_type": "execute_result"
    }
   ],
   "source": [
    "df_acct['identity'].value_counts()"
   ]
  },
  {
   "cell_type": "markdown",
   "metadata": {},
   "source": [
    "## Total number of transactions for Customer :570884863\n",
    "- Reversed       174\n",
    "- Multi-swipe    14"
   ]
  },
  {
   "cell_type": "code",
   "execution_count": 38,
   "metadata": {},
   "outputs": [
    {
     "data": {
      "text/plain": [
       "-22076.270000000004"
      ]
     },
     "execution_count": 38,
     "metadata": {},
     "output_type": "execute_result"
    }
   ],
   "source": [
    "df_acct['diff'][df_acct[\"identity\"]=='reversed'].sum()"
   ]
  },
  {
   "cell_type": "markdown",
   "metadata": {},
   "source": [
    "## Total dollar amount of Reversed Transaction for Customer :570884863 = 22076\n"
   ]
  },
  {
   "cell_type": "code",
   "execution_count": 39,
   "metadata": {},
   "outputs": [
    {
     "data": {
      "text/plain": [
       "37880.25000000001"
      ]
     },
     "execution_count": 39,
     "metadata": {},
     "output_type": "execute_result"
    }
   ],
   "source": [
    "df_acct['diff'][df_acct[\"identity\"]=='multi-swipe'].sum()"
   ]
  },
  {
   "cell_type": "markdown",
   "metadata": {},
   "source": [
    "## Total dollar amount of Multi-Swipe Transaction for Customer :570884863 = 37880"
   ]
  },
  {
   "cell_type": "markdown",
   "metadata": {},
   "source": [
    "## Applying same methods to Complete data :df_identify"
   ]
  },
  {
   "cell_type": "code",
   "execution_count": 40,
   "metadata": {},
   "outputs": [],
   "source": [
    "## Removing columns\n",
    "\n",
    "df_identify.drop(['posconditioncode','cardpresent','creditlimit','merchantcategorycode',\n",
    "          'transactiontype','isfraud','correct_cvv'],axis=1, inplace=True)\n",
    "\n",
    "## Convert Date and Time in sepacrate 2 columns\n",
    "df_identify['time'] = pd.to_datetime(df_identify['transactiondatetime']).dt.time\n",
    "df_identify['transactiondatetime'] = pd.to_datetime(df_identify['transactiondatetime']).dt.date\n",
    "\n",
    "\n",
    "df_identify.sort_values(['accountnumber','transactiondatetime']).groupby(['accountnumber','transactiondatetime', 'transactionamount']).size().reset_index()\n",
    "\n",
    "## Create Flag column to indentify Duplicate transactions\n",
    "df_identify['flag'] = df_identify.transactionamount.groupby([df_identify.transactiondatetime,\n",
    "                                                     df_identify.transactionamount.diff().ne(0).cumsum()]).transform('size').ge(2).astype(int) \n",
    "\n",
    "## Filtering out just Duplicate transactions\n",
    "df_identify = df_identify[df_identify['flag'] == 1]\n",
    "\n",
    "#Sort by Date and Time\n",
    "df_identify['diff'] = df_identify.sort_values(['accountnumber','transactiondatetime' ,'time']).groupby(['accountnumber','transactiondatetime', 'transactionamount'])['availablemoney'].diff().fillna(0).astype(float)\n",
    "\n",
    "# Getting just a Single transaction ( reversed/multi-swipe )\n",
    "df_identify = df_identify[df_identify['diff'] != 0]\n",
    "\n",
    "## Categorizing into reversed or multi-swipe\n",
    "df_identify['identity'] = np.where(df_identify['diff'] > 0, 'multi-swipe','reversed')"
   ]
  },
  {
   "cell_type": "code",
   "execution_count": 41,
   "metadata": {},
   "outputs": [
    {
     "data": {
      "text/html": [
       "<div>\n",
       "<style scoped>\n",
       "    .dataframe tbody tr th:only-of-type {\n",
       "        vertical-align: middle;\n",
       "    }\n",
       "\n",
       "    .dataframe tbody tr th {\n",
       "        vertical-align: top;\n",
       "    }\n",
       "\n",
       "    .dataframe thead th {\n",
       "        text-align: right;\n",
       "    }\n",
       "</style>\n",
       "<table border=\"1\" class=\"dataframe\">\n",
       "  <thead>\n",
       "    <tr style=\"text-align: right;\">\n",
       "      <th></th>\n",
       "      <th>accountnumber</th>\n",
       "      <th>availablemoney</th>\n",
       "      <th>transactiondatetime</th>\n",
       "      <th>transactionamount</th>\n",
       "      <th>currentbalance</th>\n",
       "      <th>time</th>\n",
       "      <th>flag</th>\n",
       "      <th>diff</th>\n",
       "      <th>identity</th>\n",
       "    </tr>\n",
       "  </thead>\n",
       "  <tbody>\n",
       "    <tr>\n",
       "      <th>39</th>\n",
       "      <td>574788567</td>\n",
       "      <td>2200.98</td>\n",
       "      <td>2016-05-24</td>\n",
       "      <td>215.13</td>\n",
       "      <td>299.02</td>\n",
       "      <td>01:00:00</td>\n",
       "      <td>1</td>\n",
       "      <td>-215.13</td>\n",
       "      <td>reversed</td>\n",
       "    </tr>\n",
       "    <tr>\n",
       "      <th>263</th>\n",
       "      <td>984504651</td>\n",
       "      <td>26680.99</td>\n",
       "      <td>2016-03-12</td>\n",
       "      <td>118.52</td>\n",
       "      <td>23319.01</td>\n",
       "      <td>06:00:00</td>\n",
       "      <td>1</td>\n",
       "      <td>-118.52</td>\n",
       "      <td>reversed</td>\n",
       "    </tr>\n",
       "    <tr>\n",
       "      <th>264</th>\n",
       "      <td>984504651</td>\n",
       "      <td>26562.47</td>\n",
       "      <td>2016-03-12</td>\n",
       "      <td>118.52</td>\n",
       "      <td>23437.53</td>\n",
       "      <td>06:00:00</td>\n",
       "      <td>1</td>\n",
       "      <td>-118.52</td>\n",
       "      <td>reversed</td>\n",
       "    </tr>\n",
       "    <tr>\n",
       "      <th>281</th>\n",
       "      <td>984504651</td>\n",
       "      <td>24316.12</td>\n",
       "      <td>2016-03-18</td>\n",
       "      <td>26.71</td>\n",
       "      <td>25683.88</td>\n",
       "      <td>13:00:00</td>\n",
       "      <td>1</td>\n",
       "      <td>-26.71</td>\n",
       "      <td>reversed</td>\n",
       "    </tr>\n",
       "    <tr>\n",
       "      <th>413</th>\n",
       "      <td>984504651</td>\n",
       "      <td>7302.32</td>\n",
       "      <td>2016-05-07</td>\n",
       "      <td>23.82</td>\n",
       "      <td>42697.68</td>\n",
       "      <td>07:00:00</td>\n",
       "      <td>1</td>\n",
       "      <td>-23.82</td>\n",
       "      <td>reversed</td>\n",
       "    </tr>\n",
       "    <tr>\n",
       "      <th>...</th>\n",
       "      <td>...</td>\n",
       "      <td>...</td>\n",
       "      <td>...</td>\n",
       "      <td>...</td>\n",
       "      <td>...</td>\n",
       "      <td>...</td>\n",
       "      <td>...</td>\n",
       "      <td>...</td>\n",
       "      <td>...</td>\n",
       "    </tr>\n",
       "    <tr>\n",
       "      <th>785587</th>\n",
       "      <td>841351704</td>\n",
       "      <td>13979.93</td>\n",
       "      <td>2016-12-27</td>\n",
       "      <td>206.92</td>\n",
       "      <td>36020.07</td>\n",
       "      <td>18:00:00</td>\n",
       "      <td>1</td>\n",
       "      <td>-206.92</td>\n",
       "      <td>reversed</td>\n",
       "    </tr>\n",
       "    <tr>\n",
       "      <th>785649</th>\n",
       "      <td>698607813</td>\n",
       "      <td>2385.71</td>\n",
       "      <td>2016-09-17</td>\n",
       "      <td>29.20</td>\n",
       "      <td>114.29</td>\n",
       "      <td>17:00:00</td>\n",
       "      <td>1</td>\n",
       "      <td>-29.20</td>\n",
       "      <td>reversed</td>\n",
       "    </tr>\n",
       "    <tr>\n",
       "      <th>785915</th>\n",
       "      <td>428856030</td>\n",
       "      <td>104.44</td>\n",
       "      <td>2016-10-30</td>\n",
       "      <td>314.07</td>\n",
       "      <td>145.56</td>\n",
       "      <td>20:00:00</td>\n",
       "      <td>1</td>\n",
       "      <td>-135.41</td>\n",
       "      <td>reversed</td>\n",
       "    </tr>\n",
       "    <tr>\n",
       "      <th>786120</th>\n",
       "      <td>638498773</td>\n",
       "      <td>9798.21</td>\n",
       "      <td>2016-01-01</td>\n",
       "      <td>201.79</td>\n",
       "      <td>201.79</td>\n",
       "      <td>19:00:00</td>\n",
       "      <td>1</td>\n",
       "      <td>-201.79</td>\n",
       "      <td>reversed</td>\n",
       "    </tr>\n",
       "    <tr>\n",
       "      <th>786233</th>\n",
       "      <td>638498773</td>\n",
       "      <td>3049.18</td>\n",
       "      <td>2016-11-29</td>\n",
       "      <td>390.98</td>\n",
       "      <td>6950.82</td>\n",
       "      <td>23:00:00</td>\n",
       "      <td>1</td>\n",
       "      <td>-390.98</td>\n",
       "      <td>reversed</td>\n",
       "    </tr>\n",
       "  </tbody>\n",
       "</table>\n",
       "<p>6034 rows × 9 columns</p>\n",
       "</div>"
      ],
      "text/plain": [
       "       accountnumber  availablemoney transactiondatetime  transactionamount  \\\n",
       "39         574788567         2200.98          2016-05-24             215.13   \n",
       "263        984504651        26680.99          2016-03-12             118.52   \n",
       "264        984504651        26562.47          2016-03-12             118.52   \n",
       "281        984504651        24316.12          2016-03-18              26.71   \n",
       "413        984504651         7302.32          2016-05-07              23.82   \n",
       "...              ...             ...                 ...                ...   \n",
       "785587     841351704        13979.93          2016-12-27             206.92   \n",
       "785649     698607813         2385.71          2016-09-17              29.20   \n",
       "785915     428856030          104.44          2016-10-30             314.07   \n",
       "786120     638498773         9798.21          2016-01-01             201.79   \n",
       "786233     638498773         3049.18          2016-11-29             390.98   \n",
       "\n",
       "        currentbalance      time  flag    diff  identity  \n",
       "39              299.02  01:00:00     1 -215.13  reversed  \n",
       "263           23319.01  06:00:00     1 -118.52  reversed  \n",
       "264           23437.53  06:00:00     1 -118.52  reversed  \n",
       "281           25683.88  13:00:00     1  -26.71  reversed  \n",
       "413           42697.68  07:00:00     1  -23.82  reversed  \n",
       "...                ...       ...   ...     ...       ...  \n",
       "785587        36020.07  18:00:00     1 -206.92  reversed  \n",
       "785649          114.29  17:00:00     1  -29.20  reversed  \n",
       "785915          145.56  20:00:00     1 -135.41  reversed  \n",
       "786120          201.79  19:00:00     1 -201.79  reversed  \n",
       "786233         6950.82  23:00:00     1 -390.98  reversed  \n",
       "\n",
       "[6034 rows x 9 columns]"
      ]
     },
     "execution_count": 41,
     "metadata": {},
     "output_type": "execute_result"
    }
   ],
   "source": [
    "df_identify"
   ]
  },
  {
   "cell_type": "code",
   "execution_count": 42,
   "metadata": {},
   "outputs": [
    {
     "data": {
      "text/plain": [
       "reversed       5642\n",
       "multi-swipe     392\n",
       "Name: identity, dtype: int64"
      ]
     },
     "execution_count": 42,
     "metadata": {},
     "output_type": "execute_result"
    }
   ],
   "source": [
    "df_identify['identity'].value_counts()"
   ]
  },
  {
   "cell_type": "markdown",
   "metadata": {},
   "source": [
    "## Total number of Duplicate transactions \n",
    "- Reversed       5642\n",
    "- Multi-swipe     392"
   ]
  },
  {
   "cell_type": "code",
   "execution_count": 43,
   "metadata": {},
   "outputs": [
    {
     "data": {
      "image/png": "[encoded data removed]",
      "text/plain": [
       "<Figure size 720x360 with 1 Axes>"
      ]
     },
     "metadata": {
      "needs_background": "light"
     },
     "output_type": "display_data"
    }
   ],
   "source": [
    "fig, ax1 = plt.subplots(figsize=(10,5))\n",
    "graph = sns.countplot(ax=ax1,x='identity', data=df_identify,palette=\"Set2\")\n",
    "graph.set_xticklabels(graph.get_xticklabels())\n",
    "for p in graph.patches:\n",
    "    height = p.get_height()\n",
    "    graph.text(p.get_x()+p.get_width()/2., height + 0.1,height ,ha=\"center\")"
   ]
  },
  {
   "cell_type": "code",
   "execution_count": 44,
   "metadata": {},
   "outputs": [
    {
     "data": {
      "text/plain": [
       "-778848.6100000001"
      ]
     },
     "execution_count": 44,
     "metadata": {},
     "output_type": "execute_result"
    }
   ],
   "source": [
    "df_identify['diff'][df_identify[\"identity\"]=='reversed'].sum()"
   ]
  },
  {
   "cell_type": "markdown",
   "metadata": {},
   "source": [
    "## Total dollar amount of Reversed Transaction  = 778848"
   ]
  },
  {
   "cell_type": "code",
   "execution_count": 45,
   "metadata": {},
   "outputs": [
    {
     "data": {
      "text/plain": [
       "582887.63"
      ]
     },
     "execution_count": 45,
     "metadata": {},
     "output_type": "execute_result"
    }
   ],
   "source": [
    "df_identify['diff'][df_identify[\"identity\"]=='multi-swipe'].sum()"
   ]
  },
  {
   "cell_type": "markdown",
   "metadata": {},
   "source": [
    "## Total dollar amount of Multi-Swipe Transaction  = 582887"
   ]
  },
  {
   "cell_type": "markdown",
   "metadata": {},
   "source": [
    "### Preparing data for Model building"
   ]
  },
  {
   "cell_type": "markdown",
   "metadata": {},
   "source": [
    "#### Removing columns which has no effect on the final output.\n",
    "- Since accountNumber and customerId are a Unique identifier it will have no effect on the transaction being Fraud or Not.\n",
    "- We have already removed in Data Wrangling step\n",
    "<ul>\n",
    "<li>Merchant Name have 25613 unique variables </li>\n",
    "<li>Date Of Last AddressChange and cards last 4 digits has no effect on determining fraud </li>\n",
    "</ul>\n"
   ]
  },
  {
   "cell_type": "code",
   "execution_count": 46,
   "metadata": {},
   "outputs": [],
   "source": [
    "df1.drop(['accountnumber','customerid','transactiondatetime'],\n",
    "         axis=1, inplace=True)"
   ]
  },
  {
   "cell_type": "code",
   "execution_count": 47,
   "metadata": {},
   "outputs": [
    {
     "data": {
      "text/plain": [
       "creditlimit                 0\n",
       "availablemoney              0\n",
       "transactionamount           0\n",
       "acqcountry                  0\n",
       "merchantcountrycode         0\n",
       "posentrymode                0\n",
       "posconditioncode            0\n",
       "merchantcategorycode        0\n",
       "cardpresent                 0\n",
       "transactiontype             0\n",
       "currentbalance              0\n",
       "expirationdatekeyinmatch    0\n",
       "isfraud                     0\n",
       "correct_cvv                 0\n",
       "dtype: int64"
      ]
     },
     "execution_count": 47,
     "metadata": {},
     "output_type": "execute_result"
    }
   ],
   "source": [
    "df1.isnull().sum()"
   ]
  },
  {
   "cell_type": "code",
   "execution_count": 48,
   "metadata": {},
   "outputs": [],
   "source": [
    "df1 = df1.reindex(columns = ['creditlimit', 'availablemoney', 'transactionamount','currentbalance',\n",
    "                  'acqcountry', 'merchantcountrycode', 'posentrymode', 'posconditioncode',\n",
    "                  'merchantcategorycode', 'cardpresent', 'transactiontype', \n",
    "                  'expirationdatekeyinmatch','correct_cvv', 'isfraud'] )"
   ]
  },
  {
   "cell_type": "code",
   "execution_count": 49,
   "metadata": {},
   "outputs": [
    {
     "data": {
      "text/html": [
       "<div>\n",
       "<style scoped>\n",
       "    .dataframe tbody tr th:only-of-type {\n",
       "        vertical-align: middle;\n",
       "    }\n",
       "\n",
       "    .dataframe tbody tr th {\n",
       "        vertical-align: top;\n",
       "    }\n",
       "\n",
       "    .dataframe thead th {\n",
       "        text-align: right;\n",
       "    }\n",
       "</style>\n",
       "<table border=\"1\" class=\"dataframe\">\n",
       "  <thead>\n",
       "    <tr style=\"text-align: right;\">\n",
       "      <th></th>\n",
       "      <th>creditlimit</th>\n",
       "      <th>availablemoney</th>\n",
       "      <th>transactionamount</th>\n",
       "      <th>currentbalance</th>\n",
       "      <th>acqcountry</th>\n",
       "      <th>merchantcountrycode</th>\n",
       "      <th>posentrymode</th>\n",
       "      <th>posconditioncode</th>\n",
       "      <th>merchantcategorycode</th>\n",
       "      <th>cardpresent</th>\n",
       "      <th>transactiontype</th>\n",
       "      <th>expirationdatekeyinmatch</th>\n",
       "      <th>correct_cvv</th>\n",
       "      <th>isfraud</th>\n",
       "    </tr>\n",
       "  </thead>\n",
       "  <tbody>\n",
       "    <tr>\n",
       "      <th>0</th>\n",
       "      <td>5000.0</td>\n",
       "      <td>5000.0</td>\n",
       "      <td>98.55</td>\n",
       "      <td>0.0</td>\n",
       "      <td>US</td>\n",
       "      <td>US</td>\n",
       "      <td>02</td>\n",
       "      <td>01</td>\n",
       "      <td>rideshare</td>\n",
       "      <td>0</td>\n",
       "      <td>PURCHASE</td>\n",
       "      <td>0</td>\n",
       "      <td>1</td>\n",
       "      <td>0</td>\n",
       "    </tr>\n",
       "    <tr>\n",
       "      <th>1</th>\n",
       "      <td>5000.0</td>\n",
       "      <td>5000.0</td>\n",
       "      <td>74.51</td>\n",
       "      <td>0.0</td>\n",
       "      <td>US</td>\n",
       "      <td>US</td>\n",
       "      <td>09</td>\n",
       "      <td>01</td>\n",
       "      <td>entertainment</td>\n",
       "      <td>1</td>\n",
       "      <td>PURCHASE</td>\n",
       "      <td>0</td>\n",
       "      <td>1</td>\n",
       "      <td>0</td>\n",
       "    </tr>\n",
       "    <tr>\n",
       "      <th>2</th>\n",
       "      <td>5000.0</td>\n",
       "      <td>5000.0</td>\n",
       "      <td>7.47</td>\n",
       "      <td>0.0</td>\n",
       "      <td>US</td>\n",
       "      <td>US</td>\n",
       "      <td>09</td>\n",
       "      <td>01</td>\n",
       "      <td>mobileapps</td>\n",
       "      <td>0</td>\n",
       "      <td>PURCHASE</td>\n",
       "      <td>0</td>\n",
       "      <td>1</td>\n",
       "      <td>0</td>\n",
       "    </tr>\n",
       "    <tr>\n",
       "      <th>3</th>\n",
       "      <td>5000.0</td>\n",
       "      <td>5000.0</td>\n",
       "      <td>7.47</td>\n",
       "      <td>0.0</td>\n",
       "      <td>US</td>\n",
       "      <td>US</td>\n",
       "      <td>09</td>\n",
       "      <td>01</td>\n",
       "      <td>mobileapps</td>\n",
       "      <td>0</td>\n",
       "      <td>PURCHASE</td>\n",
       "      <td>0</td>\n",
       "      <td>1</td>\n",
       "      <td>0</td>\n",
       "    </tr>\n",
       "    <tr>\n",
       "      <th>4</th>\n",
       "      <td>5000.0</td>\n",
       "      <td>5000.0</td>\n",
       "      <td>71.18</td>\n",
       "      <td>0.0</td>\n",
       "      <td>US</td>\n",
       "      <td>US</td>\n",
       "      <td>02</td>\n",
       "      <td>01</td>\n",
       "      <td>fastfood</td>\n",
       "      <td>1</td>\n",
       "      <td>PURCHASE</td>\n",
       "      <td>0</td>\n",
       "      <td>1</td>\n",
       "      <td>0</td>\n",
       "    </tr>\n",
       "  </tbody>\n",
       "</table>\n",
       "</div>"
      ],
      "text/plain": [
       "   creditlimit  availablemoney  transactionamount  currentbalance acqcountry  \\\n",
       "0       5000.0          5000.0              98.55             0.0         US   \n",
       "1       5000.0          5000.0              74.51             0.0         US   \n",
       "2       5000.0          5000.0               7.47             0.0         US   \n",
       "3       5000.0          5000.0               7.47             0.0         US   \n",
       "4       5000.0          5000.0              71.18             0.0         US   \n",
       "\n",
       "  merchantcountrycode posentrymode posconditioncode merchantcategorycode  \\\n",
       "0                  US           02               01            rideshare   \n",
       "1                  US           09               01        entertainment   \n",
       "2                  US           09               01           mobileapps   \n",
       "3                  US           09               01           mobileapps   \n",
       "4                  US           02               01             fastfood   \n",
       "\n",
       "   cardpresent transactiontype  expirationdatekeyinmatch  correct_cvv  isfraud  \n",
       "0            0        PURCHASE                         0            1        0  \n",
       "1            1        PURCHASE                         0            1        0  \n",
       "2            0        PURCHASE                         0            1        0  \n",
       "3            0        PURCHASE                         0            1        0  \n",
       "4            1        PURCHASE                         0            1        0  "
      ]
     },
     "execution_count": 49,
     "metadata": {},
     "output_type": "execute_result"
    }
   ],
   "source": [
    "df1.head()"
   ]
  },
  {
   "cell_type": "code",
   "execution_count": 50,
   "metadata": {},
   "outputs": [
    {
     "data": {
      "text/plain": [
       "'Dataset Dimensions: 776668x14'"
      ]
     },
     "execution_count": 50,
     "metadata": {},
     "output_type": "execute_result"
    }
   ],
   "source": [
    "\"Dataset Dimensions: {}x{}\".format(df1.shape[0], df1.shape[1])"
   ]
  },
  {
   "cell_type": "markdown",
   "metadata": {},
   "source": [
    "- Changing categorical datatypes to category"
   ]
  },
  {
   "cell_type": "code",
   "execution_count": 51,
   "metadata": {},
   "outputs": [],
   "source": [
    "df1.iloc[:,4:14] = df1.iloc[:,4:14].astype('category')"
   ]
  },
  {
   "cell_type": "code",
   "execution_count": 52,
   "metadata": {},
   "outputs": [
    {
     "data": {
      "text/plain": [
       "creditlimit                  float64\n",
       "availablemoney               float64\n",
       "transactionamount            float64\n",
       "currentbalance               float64\n",
       "acqcountry                  category\n",
       "merchantcountrycode         category\n",
       "posentrymode                category\n",
       "posconditioncode            category\n",
       "merchantcategorycode        category\n",
       "cardpresent                 category\n",
       "transactiontype             category\n",
       "expirationdatekeyinmatch    category\n",
       "correct_cvv                 category\n",
       "isfraud                     category\n",
       "dtype: object"
      ]
     },
     "execution_count": 52,
     "metadata": {},
     "output_type": "execute_result"
    }
   ],
   "source": [
    "df1.dtypes"
   ]
  },
  {
   "cell_type": "markdown",
   "metadata": {},
   "source": [
    "## Model Building"
   ]
  },
  {
   "cell_type": "markdown",
   "metadata": {},
   "source": [
    "### I tired doing Logistic regression with SMOTE over sampling, but I faced an issue of Null values when I resampled feature set using SMOTE()\n",
    "- I would need more time to do more research on the data to Apply SMOTE() "
   ]
  },
  {
   "cell_type": "code",
   "execution_count": 53,
   "metadata": {},
   "outputs": [
    {
     "name": "stdout",
     "output_type": "stream",
     "text": [
      "0    0.984593\n",
      "1    0.015407\n",
      "Name: isfraud, dtype: float64\n"
     ]
    }
   ],
   "source": [
    "#checking the split\n",
    "print(df1[\"isfraud\"].value_counts()/len(df1))"
   ]
  },
  {
   "cell_type": "markdown",
   "metadata": {},
   "source": [
    "### Resampling to get more balanced data\n",
    "\n",
    "- Down-sampling (Under sampling) the majority class\n",
    "- We can see that the split is extremely imbalanced, this split is also evident in the Bar graph shown above"
   ]
  },
  {
   "cell_type": "code",
   "execution_count": 54,
   "metadata": {},
   "outputs": [],
   "source": [
    "\n",
    "ros = RandomOverSampler()\n",
    "\n",
    "# Class count\n",
    "count_class_0, count_class_1 = df1.isfraud.value_counts()\n",
    "\n",
    "# Divide by class\n",
    "df_class_0 = df1[df1['isfraud'] == 0]\n",
    "df_class_1 = df1[df1['isfraud'] == 1]"
   ]
  },
  {
   "cell_type": "code",
   "execution_count": 55,
   "metadata": {},
   "outputs": [
    {
     "name": "stdout",
     "output_type": "stream",
     "text": [
      "Random under-sampling:\n",
      "0    11966\n",
      "1    11966\n",
      "Name: isfraud, dtype: int64\n"
     ]
    },
    {
     "data": {
      "image/png": "[encoded data removed]",
      "text/plain": [
       "<Figure size 432x288 with 1 Axes>"
      ]
     },
     "metadata": {
      "needs_background": "light"
     },
     "output_type": "display_data"
    }
   ],
   "source": [
    "df_class_0_under = df_class_0.sample(count_class_1)\n",
    "X = pd.concat([df_class_0_under, df_class_1], axis=0)\n",
    "\n",
    "print('Random under-sampling:')\n",
    "print(X.isfraud.value_counts())\n",
    "\n",
    "X.isfraud.value_counts().plot(kind='bar', title='Count (isFraud)');"
   ]
  },
  {
   "cell_type": "markdown",
   "metadata": {},
   "source": [
    "- Stratification will ensure that the samples evenly based on sample classes so that training set and validation set have similar ratio of classes"
   ]
  },
  {
   "cell_type": "code",
   "execution_count": 56,
   "metadata": {},
   "outputs": [],
   "source": [
    "#splitting the dataset\n",
    "X_train, X_test, y_train, y_test = train_test_split(X.iloc[:,0:13],\n",
    "                                                    X.iloc[:,-1],\n",
    "                                                    stratify = X['isfraud'], test_size=0.3)"
   ]
  },
  {
   "cell_type": "code",
   "execution_count": 57,
   "metadata": {},
   "outputs": [
    {
     "name": "stdout",
     "output_type": "stream",
     "text": [
      "0    0.5\n",
      "1    0.5\n",
      "Name: isfraud, dtype: float64\n",
      "0    0.5\n",
      "1    0.5\n",
      "Name: isfraud, dtype: float64\n"
     ]
    }
   ],
   "source": [
    "#checking the split\n",
    "print(y_train.value_counts()/len(y_train))\n",
    "print(y_test.value_counts()/len(y_test))"
   ]
  },
  {
   "cell_type": "markdown",
   "metadata": {},
   "source": [
    "###  Scaling, Standardizing and Transformation are important steps of numeric feature and they used to treat skewed features and rescale them for modelling"
   ]
  },
  {
   "cell_type": "code",
   "execution_count": 58,
   "metadata": {},
   "outputs": [],
   "source": [
    "le = LabelEncoder()"
   ]
  },
  {
   "cell_type": "code",
   "execution_count": 59,
   "metadata": {},
   "outputs": [],
   "source": [
    "X_train[\"acqcountry\"]=le.fit_transform(X_train[\"acqcountry\"])\n",
    "X_test[\"acqcountry\"]= le.transform(X_test[\"acqcountry\"])\n",
    "\n",
    "X_train[\"merchantcountrycode\"]=le.fit_transform(X_train[\"merchantcountrycode\"])\n",
    "X_test[\"merchantcountrycode\"]= le.transform(X_test[\"merchantcountrycode\"])\n",
    "\n",
    "X_train[\"merchantcategorycode\"]=le.fit_transform(X_train[\"merchantcategorycode\"])\n",
    "X_test[\"merchantcategorycode\"]= le.transform(X_test[\"merchantcategorycode\"])\n",
    "\n",
    "X_train[\"transactiontype\"]=le.fit_transform(X_train[\"transactiontype\"])\n",
    "X_test[\"transactiontype\"]= le.transform(X_test[\"transactiontype\"])\n"
   ]
  },
  {
   "cell_type": "code",
   "execution_count": 60,
   "metadata": {},
   "outputs": [],
   "source": [
    "#Scaling the numerical features\n",
    "categorical_columns = ['acqcountry','merchantcountrycode', 'posentrymode', 'posconditioncode',\n",
    "                       'merchantcategorycode','cardpresent','transactiontype' ,'expirationdatekeyinmatch',\n",
    "                       'correct_cvv']\n",
    "\n",
    "X_train_1 = X_train[categorical_columns]\n",
    "X_test_1 = X_test[categorical_columns]\n",
    "\n",
    "scaler = StandardScaler()\n",
    "standardized_numeric_data = scaler.fit_transform(X_train.drop(columns=categorical_columns))\n",
    "X_train_final = np.concatenate((standardized_numeric_data,np.array(X_train_1)),axis=1)\n",
    "standardized_numeric_data = scaler.transform(X_test.drop(columns=categorical_columns))\n",
    "X_test_final = np.concatenate((standardized_numeric_data,np.array(X_test_1)),axis=1)"
   ]
  },
  {
   "cell_type": "markdown",
   "metadata": {},
   "source": [
    "## Models"
   ]
  },
  {
   "cell_type": "code",
   "execution_count": 164,
   "metadata": {},
   "outputs": [],
   "source": [
    "# from sklearn import svm\n",
    "from sklearn.model_selection import learning_curve\n",
    "from sklearn.linear_model import LogisticRegression\n",
    "from sklearn.ensemble import RandomForestClassifier\n",
    "from sklearn.neural_network import MLPClassifier\n",
    "from xgboost import XGBClassifier\n",
    "from sklearn.naive_bayes import GaussianNB\n",
    "from sklearn.svm import SVC\n",
    "from sklearn import model_selection\n",
    "from sklearn.metrics import classification_report\n",
    "from sklearn.metrics import roc_curve\n",
    "from sklearn.metrics import confusion_matrix\n",
    "from sklearn.metrics import roc_curve, roc_auc_score"
   ]
  },
  {
   "cell_type": "markdown",
   "metadata": {},
   "source": [
    "- I performed a Gridesearch to get hyperparameter tuning parameters FOR SVC. C= 1 provide the best results "
   ]
  },
  {
   "cell_type": "code",
   "execution_count": 165,
   "metadata": {},
   "outputs": [
    {
     "data": {
      "text/plain": [
       "SVC(C=1, class_weight='balanced')"
      ]
     },
     "execution_count": 165,
     "metadata": {},
     "output_type": "execute_result"
    }
   ],
   "source": [
    "#model fitting\n",
    "svc = svm.SVC(class_weight= 'balanced',C=1)\n",
    "svc.fit(X_train_final, y_train)"
   ]
  },
  {
   "cell_type": "code",
   "execution_count": 166,
   "metadata": {},
   "outputs": [],
   "source": [
    "y_predict = svc.predict(X_test_final)\n",
    "svc_cm = [y_test, y_predict]"
   ]
  },
  {
   "cell_type": "code",
   "execution_count": 167,
   "metadata": {},
   "outputs": [
    {
     "data": {
      "text/plain": [
       "array([[2652,  938],\n",
       "       [1541, 2049]], dtype=int64)"
      ]
     },
     "execution_count": 167,
     "metadata": {},
     "output_type": "execute_result"
    }
   ],
   "source": [
    "confusion_matrix(y_test,y_predict)"
   ]
  },
  {
   "cell_type": "code",
   "execution_count": 168,
   "metadata": {},
   "outputs": [
    {
     "name": "stdout",
     "output_type": "stream",
     "text": [
      "0.6547353760445682\n"
     ]
    }
   ],
   "source": [
    "accuracy = accuracy_score(y_test,y_predict)\n",
    "print(accuracy)"
   ]
  },
  {
   "cell_type": "code",
   "execution_count": 169,
   "metadata": {},
   "outputs": [
    {
     "name": "stdout",
     "output_type": "stream",
     "text": [
      "              precision    recall  f1-score   support\n",
      "\n",
      "           0       0.63      0.74      0.68      3590\n",
      "           1       0.69      0.57      0.62      3590\n",
      "\n",
      "    accuracy                           0.65      7180\n",
      "   macro avg       0.66      0.65      0.65      7180\n",
      "weighted avg       0.66      0.65      0.65      7180\n",
      "\n"
     ]
    }
   ],
   "source": [
    "\n",
    "report = classification_report(y_test,y_predict)\n",
    "print(report)\n"
   ]
  },
  {
   "cell_type": "markdown",
   "metadata": {},
   "source": [
    "## Logistic Regression\n",
    "\n",
    "- Logistic regression utilizes a sigmoid function and works best on binary classification problems"
   ]
  },
  {
   "cell_type": "code",
   "execution_count": 170,
   "metadata": {},
   "outputs": [],
   "source": [
    "LR = LogisticRegression().fit(X_train_final, y_train)"
   ]
  },
  {
   "cell_type": "code",
   "execution_count": 171,
   "metadata": {},
   "outputs": [
    {
     "name": "stdout",
     "output_type": "stream",
     "text": [
      "0.6445682451253482\n"
     ]
    }
   ],
   "source": [
    "y_predict = LR.predict(X_test_final)\n",
    "accuracy = accuracy_score(y_test,y_predict)\n",
    "lr_cm = [y_test, y_predict]\n",
    "print(accuracy)"
   ]
  },
  {
   "cell_type": "code",
   "execution_count": 172,
   "metadata": {},
   "outputs": [
    {
     "data": {
      "text/plain": [
       "array([[2456, 1134],\n",
       "       [1418, 2172]], dtype=int64)"
      ]
     },
     "execution_count": 172,
     "metadata": {},
     "output_type": "execute_result"
    }
   ],
   "source": [
    "confusion_matrix(y_test,y_predict)"
   ]
  },
  {
   "cell_type": "code",
   "execution_count": 173,
   "metadata": {},
   "outputs": [
    {
     "name": "stdout",
     "output_type": "stream",
     "text": [
      "              precision    recall  f1-score   support\n",
      "\n",
      "           0       0.63      0.68      0.66      3590\n",
      "           1       0.66      0.61      0.63      3590\n",
      "\n",
      "    accuracy                           0.64      7180\n",
      "   macro avg       0.65      0.64      0.64      7180\n",
      "weighted avg       0.65      0.64      0.64      7180\n",
      "\n"
     ]
    }
   ],
   "source": [
    "report = classification_report(y_test,y_predict)\n",
    "print(report)"
   ]
  },
  {
   "cell_type": "markdown",
   "metadata": {},
   "source": [
    "## Random Forests\n",
    "\n",
    "- Random Forests consists multiple decision trees. \n",
    "- Random forests perform well where a data has a large number of features that individually have weak predicative power but much stronger power collectively."
   ]
  },
  {
   "cell_type": "code",
   "execution_count": 174,
   "metadata": {},
   "outputs": [
    {
     "name": "stdout",
     "output_type": "stream",
     "text": [
      "0.6827298050139275\n"
     ]
    }
   ],
   "source": [
    "RF = RandomForestClassifier().fit(X_train_final, y_train)\n",
    "y_predict = RF.predict(X_test_final)\n",
    "accuracy = accuracy_score(y_test,y_predict)\n",
    "rf_cm = [y_test, y_predict]\n",
    "print(accuracy)"
   ]
  },
  {
   "cell_type": "code",
   "execution_count": 175,
   "metadata": {},
   "outputs": [
    {
     "name": "stdout",
     "output_type": "stream",
     "text": [
      "              precision    recall  f1-score   support\n",
      "\n",
      "           0       0.68      0.69      0.69      3590\n",
      "           1       0.69      0.67      0.68      3590\n",
      "\n",
      "    accuracy                           0.68      7180\n",
      "   macro avg       0.68      0.68      0.68      7180\n",
      "weighted avg       0.68      0.68      0.68      7180\n",
      "\n"
     ]
    }
   ],
   "source": [
    "report = classification_report(y_test,y_predict)\n",
    "print(report)"
   ]
  },
  {
   "cell_type": "code",
   "execution_count": 176,
   "metadata": {},
   "outputs": [
    {
     "data": {
      "text/plain": [
       "array([[2495, 1095],\n",
       "       [1183, 2407]], dtype=int64)"
      ]
     },
     "execution_count": 176,
     "metadata": {},
     "output_type": "execute_result"
    }
   ],
   "source": [
    "confusion_matrix(y_test,y_predict)"
   ]
  },
  {
   "cell_type": "markdown",
   "metadata": {},
   "source": [
    "## Decision Tree "
   ]
  },
  {
   "cell_type": "code",
   "execution_count": 177,
   "metadata": {},
   "outputs": [],
   "source": [
    "from sklearn.tree import DecisionTreeClassifier"
   ]
  },
  {
   "cell_type": "code",
   "execution_count": 178,
   "metadata": {},
   "outputs": [],
   "source": [
    "DT = DecisionTreeClassifier(random_state=1234).fit(X_train_final, y_train)"
   ]
  },
  {
   "cell_type": "code",
   "execution_count": 179,
   "metadata": {},
   "outputs": [
    {
     "name": "stdout",
     "output_type": "stream",
     "text": [
      "0.6125348189415042\n"
     ]
    }
   ],
   "source": [
    "y_predict = DT.predict(X_test_final)\n",
    "accuracy = accuracy_score(y_test,y_predict)\n",
    "dt_cm = [y_test, y_predict]\n",
    "print(accuracy)"
   ]
  },
  {
   "cell_type": "code",
   "execution_count": 180,
   "metadata": {},
   "outputs": [
    {
     "name": "stdout",
     "output_type": "stream",
     "text": [
      "              precision    recall  f1-score   support\n",
      "\n",
      "           0       0.61      0.61      0.61      3590\n",
      "           1       0.61      0.61      0.61      3590\n",
      "\n",
      "    accuracy                           0.61      7180\n",
      "   macro avg       0.61      0.61      0.61      7180\n",
      "weighted avg       0.61      0.61      0.61      7180\n",
      "\n"
     ]
    }
   ],
   "source": [
    "report = classification_report(y_test,y_predict)\n",
    "print(report)"
   ]
  },
  {
   "cell_type": "markdown",
   "metadata": {},
   "source": [
    "## K Nearest Neighbor\n",
    "\n",
    "- KNN is a non-parametric learning algorithm, it will not assume anything about the underlying data.\n",
    "- KNN is useful for Real world data like Transaction Fraudulent detection\n"
   ]
  },
  {
   "cell_type": "code",
   "execution_count": 181,
   "metadata": {},
   "outputs": [],
   "source": [
    "from sklearn.neighbors import KNeighborsClassifier"
   ]
  },
  {
   "cell_type": "code",
   "execution_count": 182,
   "metadata": {},
   "outputs": [],
   "source": [
    "KN = KNeighborsClassifier().fit(X_train_final, y_train)"
   ]
  },
  {
   "cell_type": "code",
   "execution_count": 183,
   "metadata": {},
   "outputs": [
    {
     "name": "stdout",
     "output_type": "stream",
     "text": [
      "0.6667130919220056\n"
     ]
    }
   ],
   "source": [
    "y_predict = KN.predict(X_test_final)\n",
    "accuracy = accuracy_score(y_test,y_predict)\n",
    "kn_cm = [y_test, y_predict]\n",
    "print(accuracy)"
   ]
  },
  {
   "cell_type": "code",
   "execution_count": 184,
   "metadata": {},
   "outputs": [
    {
     "name": "stdout",
     "output_type": "stream",
     "text": [
      "              precision    recall  f1-score   support\n",
      "\n",
      "           0       0.67      0.66      0.66      3590\n",
      "           1       0.66      0.68      0.67      3590\n",
      "\n",
      "    accuracy                           0.67      7180\n",
      "   macro avg       0.67      0.67      0.67      7180\n",
      "weighted avg       0.67      0.67      0.67      7180\n",
      "\n"
     ]
    }
   ],
   "source": [
    "report = classification_report(y_test,y_predict)\n",
    "print(report)"
   ]
  },
  {
   "cell_type": "markdown",
   "metadata": {},
   "source": [
    "## XGBoost :Gradient boosted decision trees\n",
    "- XGBoost performe well on binary classification problems with a severe class imbalance."
   ]
  },
  {
   "cell_type": "code",
   "execution_count": 185,
   "metadata": {},
   "outputs": [
    {
     "name": "stdout",
     "output_type": "stream",
     "text": [
      "[14:22:31] WARNING: C:/Users/Administrator/workspace/xgboost-win64_release_1.3.0/src/learner.cc:1061: Starting in XGBoost 1.3.0, the default evaluation metric used with the objective 'binary:logistic' was changed from 'error' to 'logloss'. Explicitly set eval_metric if you'd like to restore the old behavior.\n"
     ]
    }
   ],
   "source": [
    "XG = XGBClassifier().fit(X_train_final, y_train)"
   ]
  },
  {
   "cell_type": "code",
   "execution_count": 186,
   "metadata": {},
   "outputs": [
    {
     "name": "stdout",
     "output_type": "stream",
     "text": [
      "0.6956824512534819\n"
     ]
    }
   ],
   "source": [
    "y_predict = XG.predict(X_test_final)\n",
    "accuracy = accuracy_score(y_test,y_predict)\n",
    "xg_cm = [y_test, y_predict]\n",
    "print(accuracy)"
   ]
  },
  {
   "cell_type": "code",
   "execution_count": 187,
   "metadata": {},
   "outputs": [
    {
     "data": {
      "text/plain": [
       "array([[2484, 1106],\n",
       "       [1079, 2511]], dtype=int64)"
      ]
     },
     "execution_count": 187,
     "metadata": {},
     "output_type": "execute_result"
    }
   ],
   "source": [
    "confusion_matrix(y_test,y_predict)"
   ]
  },
  {
   "cell_type": "code",
   "execution_count": 188,
   "metadata": {},
   "outputs": [
    {
     "name": "stdout",
     "output_type": "stream",
     "text": [
      "              precision    recall  f1-score   support\n",
      "\n",
      "           0       0.70      0.69      0.69      3590\n",
      "           1       0.69      0.70      0.70      3590\n",
      "\n",
      "    accuracy                           0.70      7180\n",
      "   macro avg       0.70      0.70      0.70      7180\n",
      "weighted avg       0.70      0.70      0.70      7180\n",
      "\n"
     ]
    }
   ],
   "source": [
    "report = classification_report(y_test,y_predict)\n",
    "print(report)"
   ]
  },
  {
   "cell_type": "code",
   "execution_count": 189,
   "metadata": {},
   "outputs": [],
   "source": [
    "def plot_roc(models):\n",
    "    fig = plt.figure(figsize=(15,10)) \n",
    "    for key, value in models.items():\n",
    "        fpr, tpr, _ = roc_curve(value[0], value[1])\n",
    "        sns.lineplot(x=fpr, y=tpr, label=key)\n",
    "\n",
    "    ax = sns.lineplot(x=[0, 0.5, 1], y=[0, 0.5, 1])\n",
    "    ax.lines[len(models)].set_linestyle(\"--\")\n",
    "    plt.xlabel('False Positive Rate')\n",
    "    plt.ylabel('True Positive Rate')\n",
    "    plt.title(f'ROC Curve')"
   ]
  },
  {
   "cell_type": "code",
   "execution_count": 190,
   "metadata": {},
   "outputs": [
    {
     "data": {
      "image/png": "[encoded data removed]",
      "text/plain": [
       "<Figure size 1080x720 with 1 Axes>"
      ]
     },
     "metadata": {
      "needs_background": "light"
     },
     "output_type": "display_data"
    }
   ],
   "source": [
    "results = { 'SVC' :svc_cm,\n",
    "            'Logistic Regression': lr_cm,      \n",
    "            'Random Forest': rf_cm,\n",
    "            'Decision Tree' :dt_cm,\n",
    "            'K Nearest Neighbor': kn_cm, \n",
    "            'XGBoost': xg_cm }\n",
    "plot_roc(results)"
   ]
  },
  {
   "cell_type": "markdown",
   "metadata": {},
   "source": [
    "## XGBoost Model performed best out of all 6 models\n",
    "- K Nearest Neighbor and Decision tree also performed well compared to other model with an accuracy of 67% and 68%\n",
    "- We had to Under sample large portion of the data,despite that we got an accuracy of 70%.\n",
    "- This model can't be used in reasl world Fruadulent detection."
   ]
  }
 ],
 "metadata": {
  "kernelspec": {
   "display_name": "Python 3",
   "language": "python",
   "name": "python3"
  },
  "language_info": {
   "codemirror_mode": {
    "name": "ipython",
    "version": 3
   },
   "file_extension": ".py",
   "mimetype": "text/x-python",
   "name": "python",
   "nbconvert_exporter": "python",
   "pygments_lexer": "ipython3",
   "version": "3.7.6"
  }
 },
 "nbformat": 4,
 "nbformat_minor": 4
}
