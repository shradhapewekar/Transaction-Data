{
 "cells": [
  {
   "cell_type": "raw",
   "metadata": {},
   "source": [
    "The following artifacts are valued:\n",
    "•\texplanations of your intent, methods, conclusions and any assumptions\n",
    "•\tclear, documented, and well-structured code\n",
    "•\tinstructions for running your code\n",
    "•\tmethods you attempted that didn't work\n",
    "•\tideas you didn't have time to complete but would have done with more time\n",
    "•\ta thorough write up with any pertinent visualizations\n"
   ]
  },
  {
   "cell_type": "code",
   "execution_count": 14,
   "metadata": {},
   "outputs": [],
   "source": [
    "import pandas as pd\n",
    "import numpy as np\n",
    "import seaborn as sns\n",
    "import matplotlib.pyplot as plt\n",
    "import matplotlib.gridspec as gridspec\n",
    "import os"
   ]
  },
  {
   "cell_type": "markdown",
   "metadata": {},
   "source": [
    "### Load"
   ]
  },
  {
   "cell_type": "code",
   "execution_count": 15,
   "metadata": {},
   "outputs": [],
   "source": [
    "pwd = os.getcwd()"
   ]
  },
  {
   "cell_type": "code",
   "execution_count": 16,
   "metadata": {},
   "outputs": [],
   "source": [
    "header = [\"raw\"]\n",
    "df = pd.read_csv(os.path.basename(pwd +'/transactions.txt'),header=None, sep='\\t', names=header)\n"
   ]
  },
  {
   "cell_type": "code",
   "execution_count": 17,
   "metadata": {},
   "outputs": [],
   "source": [
    "df_subset = df.copy()\n",
    "df_subset = df_subset.replace('\"','', regex=True)"
   ]
  },
  {
   "cell_type": "code",
   "execution_count": 18,
   "metadata": {},
   "outputs": [
    {
     "data": {
      "text/html": [
       "<div>\n",
       "<style scoped>\n",
       "    .dataframe tbody tr th:only-of-type {\n",
       "        vertical-align: middle;\n",
       "    }\n",
       "\n",
       "    .dataframe tbody tr th {\n",
       "        vertical-align: top;\n",
       "    }\n",
       "\n",
       "    .dataframe thead th {\n",
       "        text-align: right;\n",
       "    }\n",
       "</style>\n",
       "<table border=\"1\" class=\"dataframe\">\n",
       "  <thead>\n",
       "    <tr style=\"text-align: right;\">\n",
       "      <th></th>\n",
       "      <th>raw</th>\n",
       "    </tr>\n",
       "  </thead>\n",
       "  <tbody>\n",
       "    <tr>\n",
       "      <th>0</th>\n",
       "      <td>accountNumber: 737265056, customerId: 73726505...</td>\n",
       "    </tr>\n",
       "    <tr>\n",
       "      <th>1</th>\n",
       "      <td>accountNumber: 737265056, customerId: 73726505...</td>\n",
       "    </tr>\n",
       "    <tr>\n",
       "      <th>2</th>\n",
       "      <td>accountNumber: 737265056, customerId: 73726505...</td>\n",
       "    </tr>\n",
       "    <tr>\n",
       "      <th>3</th>\n",
       "      <td>accountNumber: 737265056, customerId: 73726505...</td>\n",
       "    </tr>\n",
       "    <tr>\n",
       "      <th>4</th>\n",
       "      <td>accountNumber: 830329091, customerId: 83032909...</td>\n",
       "    </tr>\n",
       "  </tbody>\n",
       "</table>\n",
       "</div>"
      ],
      "text/plain": [
       "                                                 raw\n",
       "0  accountNumber: 737265056, customerId: 73726505...\n",
       "1  accountNumber: 737265056, customerId: 73726505...\n",
       "2  accountNumber: 737265056, customerId: 73726505...\n",
       "3  accountNumber: 737265056, customerId: 73726505...\n",
       "4  accountNumber: 830329091, customerId: 83032909..."
      ]
     },
     "execution_count": 18,
     "metadata": {},
     "output_type": "execute_result"
    }
   ],
   "source": [
    "df_subset.raw = df_subset.raw.str[1:]\n",
    "df_subset.raw = df_subset.raw.str[:-1]\n",
    "df_subset.head()"
   ]
  },
  {
   "cell_type": "code",
   "execution_count": 19,
   "metadata": {},
   "outputs": [],
   "source": [
    "keys = ['accountnumber', 'customerid', 'creditlimit', 'availablemoney', \n",
    "        'transactiondatetime', 'transactionamount', 'merchantname', 'acqcountry',\n",
    "        'merchantcountrycode', 'posentrymode', 'posconditioncode', 'merchantcategorycode',\n",
    "        'currentexpdate', 'cardpresent', 'accountopendate', 'dateoflastaddresschange',\n",
    "        'cardcvv', 'enteredcvv', 'cardlast4digits', 'transactiontype', 'echobuffer', \n",
    "        'currentbalance', 'merchantcity', 'merchantstate', 'merchantzip', 'cardpresent', \n",
    "        'posonpremises', 'recurringauthind', 'expirationdatekeyinmatch', 'isfraud']"
   ]
  },
  {
   "cell_type": "code",
   "execution_count": 20,
   "metadata": {},
   "outputs": [],
   "source": [
    "def parse_raw(raw_data):\n",
    "    lines = raw_data.split(',')\n",
    "    table = {}\n",
    "    message = ''\n",
    "    keys_to_extract = keys    \n",
    "    for line in lines:\n",
    "        \n",
    "        pairs = line.split(':')  \n",
    "        key = pairs[0].lower().replace(\" \",\"\")\n",
    "        val = pairs[1].strip()\n",
    "        \n",
    "        if key in keys_to_extract:\n",
    "            if val == '':\n",
    "                table[key] = np.nan\n",
    "            else:\n",
    "                table[key] = val\n",
    "    return table"
   ]
  },
  {
   "cell_type": "code",
   "execution_count": 21,
   "metadata": {},
   "outputs": [],
   "source": [
    "def parse_into_table(data):\n",
    "    table = [parse_raw(line) for line in data]\n",
    "    return {\n",
    "        key : map_to_list(table,key) for key in keys \n",
    "    }"
   ]
  },
  {
   "cell_type": "code",
   "execution_count": 22,
   "metadata": {},
   "outputs": [],
   "source": [
    "def map_to_list(table, key):\n",
    "    results = []\n",
    "    for struc in table:\n",
    "        \n",
    "        if key not in struc:\n",
    "            results.append('')\n",
    "        else:\n",
    "            results.append(struc[key])\n",
    "    return results"
   ]
  },
  {
   "cell_type": "code",
   "execution_count": 23,
   "metadata": {},
   "outputs": [],
   "source": [
    "df1 = pd.DataFrame(parse_into_table(df_subset.raw))"
   ]
  },
  {
   "cell_type": "code",
   "execution_count": 24,
   "metadata": {},
   "outputs": [
    {
     "data": {
      "text/html": [
       "<div>\n",
       "<style scoped>\n",
       "    .dataframe tbody tr th:only-of-type {\n",
       "        vertical-align: middle;\n",
       "    }\n",
       "\n",
       "    .dataframe tbody tr th {\n",
       "        vertical-align: top;\n",
       "    }\n",
       "\n",
       "    .dataframe thead th {\n",
       "        text-align: right;\n",
       "    }\n",
       "</style>\n",
       "<table border=\"1\" class=\"dataframe\">\n",
       "  <thead>\n",
       "    <tr style=\"text-align: right;\">\n",
       "      <th></th>\n",
       "      <th>accountnumber</th>\n",
       "      <th>customerid</th>\n",
       "      <th>creditlimit</th>\n",
       "      <th>availablemoney</th>\n",
       "      <th>transactiondatetime</th>\n",
       "      <th>transactionamount</th>\n",
       "      <th>merchantname</th>\n",
       "      <th>acqcountry</th>\n",
       "      <th>merchantcountrycode</th>\n",
       "      <th>posentrymode</th>\n",
       "      <th>...</th>\n",
       "      <th>transactiontype</th>\n",
       "      <th>echobuffer</th>\n",
       "      <th>currentbalance</th>\n",
       "      <th>merchantcity</th>\n",
       "      <th>merchantstate</th>\n",
       "      <th>merchantzip</th>\n",
       "      <th>posonpremises</th>\n",
       "      <th>recurringauthind</th>\n",
       "      <th>expirationdatekeyinmatch</th>\n",
       "      <th>isfraud</th>\n",
       "    </tr>\n",
       "  </thead>\n",
       "  <tbody>\n",
       "    <tr>\n",
       "      <th>0</th>\n",
       "      <td>737265056</td>\n",
       "      <td>737265056</td>\n",
       "      <td>5000.0</td>\n",
       "      <td>5000.0</td>\n",
       "      <td>2016-08-13T14</td>\n",
       "      <td>98.55</td>\n",
       "      <td>Uber</td>\n",
       "      <td>US</td>\n",
       "      <td>US</td>\n",
       "      <td>02</td>\n",
       "      <td>...</td>\n",
       "      <td>PURCHASE</td>\n",
       "      <td>NaN</td>\n",
       "      <td>0.0</td>\n",
       "      <td>NaN</td>\n",
       "      <td>NaN</td>\n",
       "      <td>NaN</td>\n",
       "      <td>NaN</td>\n",
       "      <td>NaN</td>\n",
       "      <td>false</td>\n",
       "      <td>false</td>\n",
       "    </tr>\n",
       "    <tr>\n",
       "      <th>1</th>\n",
       "      <td>737265056</td>\n",
       "      <td>737265056</td>\n",
       "      <td>5000.0</td>\n",
       "      <td>5000.0</td>\n",
       "      <td>2016-10-11T05</td>\n",
       "      <td>74.51</td>\n",
       "      <td>AMC #191138</td>\n",
       "      <td>US</td>\n",
       "      <td>US</td>\n",
       "      <td>09</td>\n",
       "      <td>...</td>\n",
       "      <td>PURCHASE</td>\n",
       "      <td>NaN</td>\n",
       "      <td>0.0</td>\n",
       "      <td>NaN</td>\n",
       "      <td>NaN</td>\n",
       "      <td>NaN</td>\n",
       "      <td>NaN</td>\n",
       "      <td>NaN</td>\n",
       "      <td>false</td>\n",
       "      <td>false</td>\n",
       "    </tr>\n",
       "    <tr>\n",
       "      <th>2</th>\n",
       "      <td>737265056</td>\n",
       "      <td>737265056</td>\n",
       "      <td>5000.0</td>\n",
       "      <td>5000.0</td>\n",
       "      <td>2016-11-08T09</td>\n",
       "      <td>7.47</td>\n",
       "      <td>Play Store</td>\n",
       "      <td>US</td>\n",
       "      <td>US</td>\n",
       "      <td>09</td>\n",
       "      <td>...</td>\n",
       "      <td>PURCHASE</td>\n",
       "      <td>NaN</td>\n",
       "      <td>0.0</td>\n",
       "      <td>NaN</td>\n",
       "      <td>NaN</td>\n",
       "      <td>NaN</td>\n",
       "      <td>NaN</td>\n",
       "      <td>NaN</td>\n",
       "      <td>false</td>\n",
       "      <td>false</td>\n",
       "    </tr>\n",
       "    <tr>\n",
       "      <th>3</th>\n",
       "      <td>737265056</td>\n",
       "      <td>737265056</td>\n",
       "      <td>5000.0</td>\n",
       "      <td>5000.0</td>\n",
       "      <td>2016-12-10T02</td>\n",
       "      <td>7.47</td>\n",
       "      <td>Play Store</td>\n",
       "      <td>US</td>\n",
       "      <td>US</td>\n",
       "      <td>09</td>\n",
       "      <td>...</td>\n",
       "      <td>PURCHASE</td>\n",
       "      <td>NaN</td>\n",
       "      <td>0.0</td>\n",
       "      <td>NaN</td>\n",
       "      <td>NaN</td>\n",
       "      <td>NaN</td>\n",
       "      <td>NaN</td>\n",
       "      <td>NaN</td>\n",
       "      <td>false</td>\n",
       "      <td>false</td>\n",
       "    </tr>\n",
       "    <tr>\n",
       "      <th>4</th>\n",
       "      <td>830329091</td>\n",
       "      <td>830329091</td>\n",
       "      <td>5000.0</td>\n",
       "      <td>5000.0</td>\n",
       "      <td>2016-03-24T21</td>\n",
       "      <td>71.18</td>\n",
       "      <td>Tim Hortons #947751</td>\n",
       "      <td>US</td>\n",
       "      <td>US</td>\n",
       "      <td>02</td>\n",
       "      <td>...</td>\n",
       "      <td>PURCHASE</td>\n",
       "      <td>NaN</td>\n",
       "      <td>0.0</td>\n",
       "      <td>NaN</td>\n",
       "      <td>NaN</td>\n",
       "      <td>NaN</td>\n",
       "      <td>NaN</td>\n",
       "      <td>NaN</td>\n",
       "      <td>false</td>\n",
       "      <td>false</td>\n",
       "    </tr>\n",
       "  </tbody>\n",
       "</table>\n",
       "<p>5 rows × 29 columns</p>\n",
       "</div>"
      ],
      "text/plain": [
       "  accountnumber customerid creditlimit availablemoney transactiondatetime  \\\n",
       "0     737265056  737265056      5000.0         5000.0       2016-08-13T14   \n",
       "1     737265056  737265056      5000.0         5000.0       2016-10-11T05   \n",
       "2     737265056  737265056      5000.0         5000.0       2016-11-08T09   \n",
       "3     737265056  737265056      5000.0         5000.0       2016-12-10T02   \n",
       "4     830329091  830329091      5000.0         5000.0       2016-03-24T21   \n",
       "\n",
       "  transactionamount         merchantname acqcountry merchantcountrycode  \\\n",
       "0             98.55                 Uber         US                  US   \n",
       "1             74.51          AMC #191138         US                  US   \n",
       "2              7.47           Play Store         US                  US   \n",
       "3              7.47           Play Store         US                  US   \n",
       "4             71.18  Tim Hortons #947751         US                  US   \n",
       "\n",
       "  posentrymode  ... transactiontype echobuffer currentbalance merchantcity  \\\n",
       "0           02  ...        PURCHASE        NaN            0.0          NaN   \n",
       "1           09  ...        PURCHASE        NaN            0.0          NaN   \n",
       "2           09  ...        PURCHASE        NaN            0.0          NaN   \n",
       "3           09  ...        PURCHASE        NaN            0.0          NaN   \n",
       "4           02  ...        PURCHASE        NaN            0.0          NaN   \n",
       "\n",
       "  merchantstate merchantzip posonpremises recurringauthind  \\\n",
       "0           NaN         NaN           NaN              NaN   \n",
       "1           NaN         NaN           NaN              NaN   \n",
       "2           NaN         NaN           NaN              NaN   \n",
       "3           NaN         NaN           NaN              NaN   \n",
       "4           NaN         NaN           NaN              NaN   \n",
       "\n",
       "  expirationdatekeyinmatch isfraud  \n",
       "0                    false   false  \n",
       "1                    false   false  \n",
       "2                    false   false  \n",
       "3                    false   false  \n",
       "4                    false   false  \n",
       "\n",
       "[5 rows x 29 columns]"
      ]
     },
     "execution_count": 24,
     "metadata": {},
     "output_type": "execute_result"
    }
   ],
   "source": [
    "df1.head()"
   ]
  },
  {
   "cell_type": "markdown",
   "metadata": {},
   "source": [
    "#### Structure of the data and Number of Null records "
   ]
  },
  {
   "cell_type": "code",
   "execution_count": 25,
   "metadata": {},
   "outputs": [
    {
     "data": {
      "text/plain": [
       "'Dataset Dimensions: 786363x29'"
      ]
     },
     "execution_count": 25,
     "metadata": {},
     "output_type": "execute_result"
    }
   ],
   "source": [
    "\"Dataset Dimensions: {}x{}\".format(df1.shape[0], df1.shape[1])"
   ]
  },
  {
   "cell_type": "code",
   "execution_count": 26,
   "metadata": {},
   "outputs": [
    {
     "data": {
      "text/plain": [
       "accountnumber                    0\n",
       "customerid                       0\n",
       "creditlimit                      0\n",
       "availablemoney                   0\n",
       "transactiondatetime              0\n",
       "transactionamount                0\n",
       "merchantname                     0\n",
       "acqcountry                    4562\n",
       "merchantcountrycode            724\n",
       "posentrymode                  4054\n",
       "posconditioncode               409\n",
       "merchantcategorycode             0\n",
       "currentexpdate                   0\n",
       "cardpresent                      0\n",
       "accountopendate                  0\n",
       "dateoflastaddresschange          0\n",
       "cardcvv                          0\n",
       "enteredcvv                       0\n",
       "cardlast4digits                  0\n",
       "transactiontype                698\n",
       "echobuffer                  786363\n",
       "currentbalance                   0\n",
       "merchantcity                786363\n",
       "merchantstate               786363\n",
       "merchantzip                 786363\n",
       "posonpremises               786363\n",
       "recurringauthind            786363\n",
       "expirationdatekeyinmatch         0\n",
       "isfraud                          0\n",
       "dtype: int64"
      ]
     },
     "execution_count": 26,
     "metadata": {},
     "output_type": "execute_result"
    }
   ],
   "source": [
    "df1.isnull().sum()"
   ]
  },
  {
   "cell_type": "markdown",
   "metadata": {},
   "source": [
    "### Columns 'merchantcity', 'merchantstate', 'merchantzip', 'posonpremises', 'recurringauthind' and 'echobuffer' are empty and removing these columns will have no effect on the final output"
   ]
  },
  {
   "cell_type": "code",
   "execution_count": 27,
   "metadata": {},
   "outputs": [],
   "source": [
    "df1.drop(['merchantcity', 'merchantstate', 'merchantzip', \n",
    "          'posonpremises', 'recurringauthind', 'echobuffer'], axis=1, inplace=True)"
   ]
  },
  {
   "cell_type": "markdown",
   "metadata": {},
   "source": [
    "## Data Visualization"
   ]
  },
  {
   "cell_type": "code",
   "execution_count": 49,
   "metadata": {},
   "outputs": [
    {
     "data": {
      "text/plain": [
       "<matplotlib.axes._subplots.AxesSubplot at 0x175858bc608>"
      ]
     },
     "execution_count": 49,
     "metadata": {},
     "output_type": "execute_result"
    },
    {
     "data": {
      "image/png": "[encoded data removed]",
      "text/plain": [
       "<Figure size 1440x1080 with 4 Axes>"
      ]
     },
     "metadata": {
      "needs_background": "light"
     },
     "output_type": "display_data"
    }
   ],
   "source": [
    "fig, ax = plt.subplots(2, 2, figsize=(20,15))\n",
    "\n",
    "sns.distplot( df1[\"creditlimit\"] , color=\"skyblue\", ax=ax[0, 0])\n",
    "sns.distplot( df1[\"transactionamount\"] , color=\"olive\", ax=ax[0, 1])\n",
    "sns.distplot( df1[\"availablemoney\"] , color=\"gold\", ax=ax[1, 0])\n",
    "sns.distplot( df1[\"currentbalance\"] , color=\"teal\", ax=ax[1, 1])"
   ]
  },
  {
   "cell_type": "code",
   "execution_count": 50,
   "metadata": {},
   "outputs": [
    {
     "data": {
      "image/png": "[encoded data removed]",
      "text/plain": [
       "<Figure size 1800x1080 with 1 Axes>"
      ]
     },
     "metadata": {
      "needs_background": "light"
     },
     "output_type": "display_data"
    }
   ],
   "source": [
    "fig = plt.figure(figsize=(25,15)) \n",
    "ax = sns.countplot(x=\"merchantcategorycode\", data=df1, palette=\"Set3\")"
   ]
  },
  {
   "cell_type": "code",
   "execution_count": null,
   "metadata": {},
   "outputs": [],
   "source": []
  }
 ],
 "metadata": {
  "kernelspec": {
   "display_name": "Python 3",
   "language": "python",
   "name": "python3"
  },
  "language_info": {
   "codemirror_mode": {
    "name": "ipython",
    "version": 3
   },
   "file_extension": ".py",
   "mimetype": "text/x-python",
   "name": "python",
   "nbconvert_exporter": "python",
   "pygments_lexer": "ipython3",
   "version": "3.7.6"
  }
 },
 "nbformat": 4,
 "nbformat_minor": 4
}
